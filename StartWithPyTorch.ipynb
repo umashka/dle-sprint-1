{
 "cells": [
  {
   "cell_type": "code",
   "execution_count": null,
   "id": "768343d1",
   "metadata": {},
   "outputs": [
    {
     "name": "stdout",
     "output_type": "stream",
     "text": [
      "Torch version: 2.7.0+cu126\n"
     ]
    }
   ],
   "source": [
    "import os\n",
    "from dotenv import load_dotenv\n",
    "\n",
    "import torch\n",
    "print(\"Torch version:\", torch.__version__)\n",
    "import torch.nn as nn\n",
    "from clearml import Task\n",
    "from clearml import Dataset\n",
    "import pandas as pd"
   ]
  },
  {
   "cell_type": "code",
   "execution_count": null,
   "id": "de371b7a",
   "metadata": {},
   "outputs": [
    {
     "data": {
      "text/plain": [
       "True"
      ]
     },
     "execution_count": 7,
     "metadata": {},
     "output_type": "execute_result"
    }
   ],
   "source": [
    "# Загрузка переменных окружения из файла .env\n",
    "load_dotenv()\n",
    "\n",
    "Task.set_credentials(\n",
    "    api_host=os.getenv('CLEARML_API_HOST'),\n",
    "    web_host=os.getenv('CLEARML_WEB_HOST'),\n",
    "    files_host=os.getenv('CLEARML_FILES_HOST'),\n",
    "    key=os.getenv('CLEARML_API_ACCESS_KEY'),\n",
    "    secret=os.getenv('CLEARML_API_SECRET_KEY')\n",
    ")"
   ]
  },
  {
   "cell_type": "code",
   "execution_count": 9,
   "id": "03a5dd36",
   "metadata": {},
   "outputs": [
    {
     "name": "stdout",
     "output_type": "stream",
     "text": [
      "ClearML Task: created new task id=adfd2ea7297441c887e731e9ac774840\n",
      "ClearML results page: https://app.clear.ml/projects/2dc955db01d24082b4d83b5802578449/experiments/adfd2ea7297441c887e731e9ac774840/output/log\n"
     ]
    },
    {
     "data": {
      "text/plain": [
       "<clearml.task.Task at 0x7d0587004e60>"
      ]
     },
     "execution_count": 9,
     "metadata": {},
     "output_type": "execute_result"
    },
    {
     "name": "stdout",
     "output_type": "stream",
     "text": [
      "ClearML Monitor: GPU monitoring failed getting GPU reading, switching off GPU monitoring\n",
      "ClearML Monitor: Could not detect iteration reporting, falling back to iterations as seconds-from-start\n"
     ]
    }
   ],
   "source": [
    "# Инициализируем задачу (Task) в ClearML\n",
    "task = Task.init(project_name=\"SimpleNN Project\", task_name=\"Experiment #1\")\n",
    "task"
   ]
  },
  {
   "cell_type": "code",
   "execution_count": 10,
   "id": "87004bb8",
   "metadata": {},
   "outputs": [
    {
     "data": {
      "text/plain": [
       "{'learning_rate': 0.01, 'batch_size': 16, 'epochs': 3}"
      ]
     },
     "execution_count": 10,
     "metadata": {},
     "output_type": "execute_result"
    }
   ],
   "source": [
    "# Подключаем к задаче параметры (например, гиперпараметры)\n",
    "config = {\"learning_rate\": 0.01, \"batch_size\": 16, \"epochs\": 3}\n",
    "task.connect(config) "
   ]
  },
  {
   "cell_type": "code",
   "execution_count": 13,
   "id": "28488407",
   "metadata": {},
   "outputs": [
    {
     "name": "stdout",
     "output_type": "stream",
     "text": [
      "Epoch 1/100, Epoch 0, Loss: 0.1321\n",
      "Epoch 2/100, Epoch 1, Loss: 0.1238\n",
      "Epoch 3/100, Epoch 2, Loss: 0.1164\n",
      "Epoch 4/100, Epoch 3, Loss: 0.1096\n",
      "Epoch 5/100, Epoch 4, Loss: 0.1034\n",
      "Epoch 6/100, Epoch 5, Loss: 0.0978\n",
      "Epoch 7/100, Epoch 6, Loss: 0.0927\n",
      "Epoch 8/100, Epoch 7, Loss: 0.0880\n",
      "Epoch 9/100, Epoch 8, Loss: 0.0837\n",
      "Epoch 10/100, Epoch 9, Loss: 0.0798\n",
      "Epoch 11/100, Epoch 10, Loss: 0.0762\n",
      "Epoch 12/100, Epoch 11, Loss: 0.0729\n",
      "Epoch 13/100, Epoch 12, Loss: 0.0699\n",
      "Epoch 14/100, Epoch 13, Loss: 0.0671\n",
      "Epoch 15/100, Epoch 14, Loss: 0.0645\n",
      "Epoch 16/100, Epoch 15, Loss: 0.0621\n",
      "Epoch 17/100, Epoch 16, Loss: 0.0598\n",
      "Epoch 18/100, Epoch 17, Loss: 0.0577\n",
      "Epoch 19/100, Epoch 18, Loss: 0.0558\n",
      "Epoch 20/100, Epoch 19, Loss: 0.0540\n",
      "Epoch 21/100, Epoch 20, Loss: 0.0523\n",
      "Epoch 22/100, Epoch 21, Loss: 0.0507\n",
      "Epoch 23/100, Epoch 22, Loss: 0.0493\n",
      "Epoch 24/100, Epoch 23, Loss: 0.0479\n",
      "Epoch 25/100, Epoch 24, Loss: 0.0466\n",
      "Epoch 26/100, Epoch 25, Loss: 0.0453\n",
      "Epoch 27/100, Epoch 26, Loss: 0.0442\n",
      "Epoch 28/100, Epoch 27, Loss: 0.0431\n",
      "Epoch 29/100, Epoch 28, Loss: 0.0421\n",
      "Epoch 30/100, Epoch 29, Loss: 0.0411\n",
      "Epoch 31/100, Epoch 30, Loss: 0.0401\n",
      "Epoch 32/100, Epoch 31, Loss: 0.0392\n",
      "Epoch 33/100, Epoch 32, Loss: 0.0384\n",
      "Epoch 34/100, Epoch 33, Loss: 0.0376\n",
      "Epoch 35/100, Epoch 34, Loss: 0.0368\n",
      "Epoch 36/100, Epoch 35, Loss: 0.0361\n",
      "Epoch 37/100, Epoch 36, Loss: 0.0354\n",
      "Epoch 38/100, Epoch 37, Loss: 0.0347\n",
      "Epoch 39/100, Epoch 38, Loss: 0.0340\n",
      "Epoch 40/100, Epoch 39, Loss: 0.0334\n",
      "Epoch 41/100, Epoch 40, Loss: 0.0328\n",
      "Epoch 42/100, Epoch 41, Loss: 0.0322\n",
      "Epoch 43/100, Epoch 42, Loss: 0.0317\n",
      "Epoch 44/100, Epoch 43, Loss: 0.0311\n",
      "Epoch 45/100, Epoch 44, Loss: 0.0306\n",
      "Epoch 46/100, Epoch 45, Loss: 0.0301\n",
      "Epoch 47/100, Epoch 46, Loss: 0.0296\n",
      "Epoch 48/100, Epoch 47, Loss: 0.0291\n",
      "Epoch 49/100, Epoch 48, Loss: 0.0287\n",
      "Epoch 50/100, Epoch 49, Loss: 0.0282\n",
      "Epoch 51/100, Epoch 50, Loss: 0.0278\n",
      "Epoch 52/100, Epoch 51, Loss: 0.0274\n",
      "Epoch 53/100, Epoch 52, Loss: 0.0270\n",
      "Epoch 54/100, Epoch 53, Loss: 0.0266\n",
      "Epoch 55/100, Epoch 54, Loss: 0.0262\n",
      "Epoch 56/100, Epoch 55, Loss: 0.0259\n",
      "Epoch 57/100, Epoch 56, Loss: 0.0255\n",
      "Epoch 58/100, Epoch 57, Loss: 0.0252\n",
      "Epoch 59/100, Epoch 58, Loss: 0.0248\n",
      "Epoch 60/100, Epoch 59, Loss: 0.0245\n",
      "Epoch 61/100, Epoch 60, Loss: 0.0242\n",
      "Epoch 62/100, Epoch 61, Loss: 0.0238\n",
      "Epoch 63/100, Epoch 62, Loss: 0.0235\n",
      "Epoch 64/100, Epoch 63, Loss: 0.0232\n",
      "Epoch 65/100, Epoch 64, Loss: 0.0229\n",
      "Epoch 66/100, Epoch 65, Loss: 0.0226\n",
      "Epoch 67/100, Epoch 66, Loss: 0.0223\n",
      "Epoch 68/100, Epoch 67, Loss: 0.0220\n",
      "Epoch 69/100, Epoch 68, Loss: 0.0218\n",
      "Epoch 70/100, Epoch 69, Loss: 0.0215\n",
      "Epoch 71/100, Epoch 70, Loss: 0.0212\n",
      "Epoch 72/100, Epoch 71, Loss: 0.0210\n",
      "Epoch 73/100, Epoch 72, Loss: 0.0207\n",
      "Epoch 74/100, Epoch 73, Loss: 0.0204\n",
      "Epoch 75/100, Epoch 74, Loss: 0.0202\n",
      "Epoch 76/100, Epoch 75, Loss: 0.0199\n",
      "Epoch 77/100, Epoch 76, Loss: 0.0197\n",
      "Epoch 78/100, Epoch 77, Loss: 0.0195\n",
      "Epoch 79/100, Epoch 78, Loss: 0.0192\n",
      "Epoch 80/100, Epoch 79, Loss: 0.0190\n",
      "Epoch 81/100, Epoch 80, Loss: 0.0188\n",
      "Epoch 82/100, Epoch 81, Loss: 0.0185\n",
      "Epoch 83/100, Epoch 82, Loss: 0.0183\n",
      "Epoch 84/100, Epoch 83, Loss: 0.0181\n",
      "Epoch 85/100, Epoch 84, Loss: 0.0179\n",
      "Epoch 86/100, Epoch 85, Loss: 0.0177\n",
      "Epoch 87/100, Epoch 86, Loss: 0.0175\n",
      "Epoch 88/100, Epoch 87, Loss: 0.0173\n",
      "Epoch 89/100, Epoch 88, Loss: 0.0171\n",
      "Epoch 90/100, Epoch 89, Loss: 0.0169\n",
      "Epoch 91/100, Epoch 90, Loss: 0.0167\n",
      "Epoch 92/100, Epoch 91, Loss: 0.0165\n",
      "Epoch 93/100, Epoch 92, Loss: 0.0163\n",
      "Epoch 94/100, Epoch 93, Loss: 0.0161\n",
      "Epoch 95/100, Epoch 94, Loss: 0.0159\n",
      "Epoch 96/100, Epoch 95, Loss: 0.0157\n",
      "Epoch 97/100, Epoch 96, Loss: 0.0156\n",
      "Epoch 98/100, Epoch 97, Loss: 0.0154\n",
      "Epoch 99/100, Epoch 98, Loss: 0.0152\n",
      "Epoch 100/100, Epoch 99, Loss: 0.0150\n"
     ]
    }
   ],
   "source": [
    "# 1. Определяем класс SimpleNN\n",
    "\n",
    "class SimpleNN(nn.Module):\n",
    "    def __init__(self):\n",
    "        super().__init__()\n",
    "        self.fc1 = nn.Linear(in_features=5, out_features=5)\n",
    "        self.relu = nn.ReLU()\n",
    "        self.fc2 = nn.Linear(in_features=5, out_features=1)\n",
    "\n",
    "\n",
    "    def forward(self, x):\n",
    "        x = self.fc1(x)\n",
    "        x = self.relu(x)\n",
    "        x = self.fc2(x)\n",
    "        return x\n",
    "\n",
    "\n",
    "# 2. Инициализация ClearML задачи\n",
    "task = Task.init(project_name=\"SimpleNN Project\", task_name=\"Experiment #1\")\n",
    "config = {\"learning_rate\": 0.01, \"batch_size\": 4, \"epochs\": 100}\n",
    "task.connect(config)\n",
    "\n",
    "\n",
    "# 3. Создаём модель, оптимизатор и функцию потерь\n",
    "model = SimpleNN().to(torch.device('cpu'))\n",
    "optimizer = torch.optim.SGD(model.parameters(), lr=config[\"learning_rate\"])\n",
    "criterion = nn.MSELoss()\n",
    "\n",
    "\n",
    "# 4. Генерируем случайные входные данные и метки\n",
    "torch.manual_seed(0)\n",
    "X = torch.randn(3, 5)\n",
    "y = torch.randn(3, 1)\n",
    "\n",
    "\n",
    "# 5. Обучение модели\n",
    "for epoch in range(config[\"epochs\"]):\n",
    "    outputs = model(X)\n",
    "    loss = criterion(outputs, y)\n",
    "\n",
    "\n",
    "    # Шаг обучения\n",
    "    optimizer.zero_grad()\n",
    "    loss.backward()\n",
    "    optimizer.step()\n",
    "\n",
    "\n",
    "    # Логируем loss с указанием итерации\n",
    "    task.get_logger().report_scalar(\"Loss\", \"train\", loss.item(), epoch)\n",
    "    print(f\"Epoch {epoch + 1}/{config['epochs']}, Epoch {epoch}, Loss: {loss.item():.4f}\")"
   ]
  },
  {
   "cell_type": "code",
   "execution_count": 17,
   "id": "df49c1b6",
   "metadata": {},
   "outputs": [
    {
     "name": "stdout",
     "output_type": "stream",
     "text": [
      "ClearML results page: https://app.clear.ml/projects/80631adacb78415a947c0f6c041322da/experiments/ce5021c83b2e4ee58a139dabd7e61d50/output/log\n",
      "ClearML dataset page: https://app.clear.ml/datasets/simple/80631adacb78415a947c0f6c041322da/experiments/ce5021c83b2e4ee58a139dabd7e61d50\n",
      "Uploading dataset changes (1 files compressed to 245 B) to https://files.clear.ml\n",
      "File compression and upload completed: total size 245 B, 1 chunk(s) stored (average size 245 B)\n"
     ]
    },
    {
     "data": {
      "text/html": [
       "<div>\n",
       "<style scoped>\n",
       "    .dataframe tbody tr th:only-of-type {\n",
       "        vertical-align: middle;\n",
       "    }\n",
       "\n",
       "    .dataframe tbody tr th {\n",
       "        vertical-align: top;\n",
       "    }\n",
       "\n",
       "    .dataframe thead th {\n",
       "        text-align: right;\n",
       "    }\n",
       "</style>\n",
       "<table border=\"1\" class=\"dataframe\">\n",
       "  <thead>\n",
       "    <tr style=\"text-align: right;\">\n",
       "      <th></th>\n",
       "      <th>f1</th>\n",
       "      <th>f2</th>\n",
       "      <th>f3</th>\n",
       "      <th>f4</th>\n",
       "      <th>f5</th>\n",
       "      <th>label</th>\n",
       "    </tr>\n",
       "  </thead>\n",
       "  <tbody>\n",
       "    <tr>\n",
       "      <th>0</th>\n",
       "      <td>1.540996</td>\n",
       "      <td>-0.293429</td>\n",
       "      <td>-2.178789</td>\n",
       "      <td>0.568431</td>\n",
       "      <td>-1.084522</td>\n",
       "      <td>0.122701</td>\n",
       "    </tr>\n",
       "    <tr>\n",
       "      <th>1</th>\n",
       "      <td>-1.398595</td>\n",
       "      <td>0.403347</td>\n",
       "      <td>0.838026</td>\n",
       "      <td>-0.719258</td>\n",
       "      <td>-0.403344</td>\n",
       "      <td>-0.566317</td>\n",
       "    </tr>\n",
       "    <tr>\n",
       "      <th>2</th>\n",
       "      <td>-0.596635</td>\n",
       "      <td>0.182036</td>\n",
       "      <td>-0.856675</td>\n",
       "      <td>1.100604</td>\n",
       "      <td>-1.071187</td>\n",
       "      <td>0.373115</td>\n",
       "    </tr>\n",
       "  </tbody>\n",
       "</table>\n",
       "</div>"
      ],
      "text/plain": [
       "         f1        f2        f3        f4        f5     label\n",
       "0  1.540996 -0.293429 -2.178789  0.568431 -1.084522  0.122701\n",
       "1 -1.398595  0.403347  0.838026 -0.719258 -0.403344 -0.566317\n",
       "2 -0.596635  0.182036 -0.856675  1.100604 -1.071187  0.373115"
      ]
     },
     "execution_count": 17,
     "metadata": {},
     "output_type": "execute_result"
    }
   ],
   "source": [
    "# Добавьте датасет в ClearML\n",
    "\n",
    "dataset = Dataset.create(dataset_project=\"SimpleNN Project\", dataset_name=\"synthetic_data\")\n",
    "\n",
    "\n",
    "# Генерируем случайные данные как в прошлом задании\n",
    "torch.manual_seed(0)\n",
    "X = torch.randn(3, 5)   # форма [3, 5]\n",
    "y = torch.randn(3, 1)   # форма [3, 1]\n",
    "\n",
    "\n",
    "# Превращаем X и y в pandas.DataFrame\n",
    "# Сначала приводим к numpy, затем создаём DataFrame\n",
    "\n",
    "df = pd.DataFrame(\n",
    "    X.numpy(),\n",
    "    columns=[f\"f{i+1}\" for i in range(5)]   # f1, f2, f3, f4, f5\n",
    ")\n",
    "df[\"label\"] = y.numpy()  # добавляем колонку \"label\"\n",
    "\n",
    "\n",
    "df.to_csv(\"./data/data.csv\", index=False)\n",
    "dataset.add_files(\"./data/data.csv\")\n",
    "dataset.upload()\n",
    "dataset.finalize()\n",
    "\n",
    "df"
   ]
  },
  {
   "cell_type": "code",
   "execution_count": 18,
   "id": "d89b9b7d",
   "metadata": {},
   "outputs": [
    {
     "name": "stdout",
     "output_type": "stream",
     "text": [
      "/home/ubuntu/.clearml/cache/storage_manager/datasets/ds_ce5021c83b2e4ee58a139dabd7e61d50\n"
     ]
    }
   ],
   "source": [
    "# Чтобы в дальнейшем использовать датасет в коде обучения\n",
    "\n",
    "dataset = Dataset.get(dataset_project=\"SimpleNN Project\", dataset_name=\"synthetic_data\")\n",
    "data_path = dataset.get_local_copy()\n",
    "print(data_path)\n",
    "# Теперь считываем data.csv из папки data_path"
   ]
  }
 ],
 "metadata": {
  "kernelspec": {
   "display_name": ".venv",
   "language": "python",
   "name": "python3"
  },
  "language_info": {
   "codemirror_mode": {
    "name": "ipython",
    "version": 3
   },
   "file_extension": ".py",
   "mimetype": "text/x-python",
   "name": "python",
   "nbconvert_exporter": "python",
   "pygments_lexer": "ipython3",
   "version": "3.12.3"
  }
 },
 "nbformat": 4,
 "nbformat_minor": 5
}
