{
 "cells": [
  {
   "cell_type": "markdown",
   "id": "9aad11f3",
   "metadata": {},
   "source": [
    "# Задание"
   ]
  },
  {
   "cell_type": "markdown",
   "id": "89574759",
   "metadata": {},
   "source": [
    "**Формат задания**\n",
    "\n",
    "Выполните задание локально на своём устройстве: скопируйте код ниже, реализуйте шаги и проанализируйте результаты. \n",
    "\n",
    "Проверить задание вы сможете самостоятельно. В конце выполнения нажмите кнопку «Готово» и увидите авторское решение — с ним вы можете сверить свой вариант. \n",
    "\n",
    "**Что нужно сделать**\n",
    "\n",
    "Реализуйте и протестируйте свой собственный цикл обучения. Выполните такие шаги:\n",
    "\n",
    "1. Импортируйте библиотеки: torch, torchvision, matplotlib, clearml — и нужные модули.\n",
    "1. Реализуйте модель AdvancedMNISTMLPList, определённую в предыдущем уроке.\n",
    "1. Подготовьте данные: используйте torchvision.datasets.MNIST с DataLoader для обучающего и тестового наборов.\n",
    "1. Определите функцию потерь и оптимизатор: criterion = nn.CrossEntropyLoss(), optimizer = optim.Adam(...). Задайте подходящую скорость обучения (например, lr=0.001).\n",
    "1. Настройте подключение ClearML: вызовите Task.set_credentials(...) со своими данными, затем Task.init(project_name, task_name).\n",
    "1. Реализуйте цикл обучения в 5 эпох:\n",
    "+ Для каждой эпохи сбрасывайте метрику и собирайте новые значения loss и точности.\n",
    "+ Внутри цикла для каждого батча проводите прямой и обратный проход, обновление оптимизатором.\n",
    "+ После каждой эпохи вычисляйте среднюю потерю и точность на обучающем наборе.\n",
    "+ Выводите результат в консоль и отправляйте в ClearML (с помощью Logger.current_logger().report_scalar).\n",
    "7. Оцените модель на тестовом наборе после завершения обучения: вычислите test_loss и test_accuracy.\n",
    "8. Постройте графики потерь и точности по эпохам с помощью matplotlib. Сохраните или отобразите их. Убедитесь, что после обучения сохраняете значения epoch_loss и epoch_acc в списки для отрисовки графиков."
   ]
  },
  {
   "cell_type": "code",
   "execution_count": null,
   "id": "4bb2044c",
   "metadata": {
    "vscode": {
     "languageId": "plaintext"
    }
   },
   "outputs": [],
   "source": []
  },
  {
   "cell_type": "code",
   "execution_count": null,
   "id": "185de806",
   "metadata": {
    "vscode": {
     "languageId": "plaintext"
    }
   },
   "outputs": [],
   "source": []
  },
  {
   "cell_type": "code",
   "execution_count": null,
   "id": "0fb1d214",
   "metadata": {
    "vscode": {
     "languageId": "plaintext"
    }
   },
   "outputs": [],
   "source": []
  }
 ],
 "metadata": {
  "language_info": {
   "name": "python"
  }
 },
 "nbformat": 4,
 "nbformat_minor": 5
}
