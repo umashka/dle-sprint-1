{
 "cells": [
  {
   "cell_type": "markdown",
   "id": "556bb1d8",
   "metadata": {},
   "source": [
    "# Подготовка данных на примере задачи распознавания цифр"
   ]
  },
  {
   "cell_type": "markdown",
   "id": "2f40ba0f",
   "metadata": {},
   "source": [
    "Загрузка датасета"
   ]
  },
  {
   "cell_type": "code",
   "execution_count": 13,
   "id": "abdc6cad",
   "metadata": {},
   "outputs": [
    {
     "data": {
      "text/plain": [
       "(Dataset FashionMNIST\n",
       "     Number of datapoints: 60000\n",
       "     Root location: ./data\n",
       "     Split: Train,\n",
       " Dataset FashionMNIST\n",
       "     Number of datapoints: 10000\n",
       "     Root location: ./data\n",
       "     Split: Test)"
      ]
     },
     "execution_count": 13,
     "metadata": {},
     "output_type": "execute_result"
    }
   ],
   "source": [
    "\n",
    "# from torchvision.datasets import MNIST\n",
    "\n",
    "# train_data = MNIST(root='./data', train=True, download=True, transform=None)\n",
    "# test_data  = MNIST(root='./data', train=False, download=True, transform=None)\n",
    "\n",
    "# from torchvision.datasets import MNIST\n",
    "\n",
    "# train_data = MNIST(root='./data', train=True, download=False, transform=None)\n",
    "# test_data  = MNIST(root='./data', train=False, download=False, transform=None)\n",
    "\n",
    "# from torchvision.datasets import MNIST\n",
    "# train_data = MNIST(root='./data', train=True, download=True, transform=None)\n",
    "# test_data  = MNIST(root='./data', train=False, download=True, transform=None)\n",
    "\n",
    "from torchvision.datasets import FashionMNIST\n",
    "\n",
    "train_data = FashionMNIST(root='./data', train=True, download=True, transform=None)\n",
    "test_data  = FashionMNIST(root='./data', train=False, download=True, transform=None)\n",
    "\n",
    "train_data, test_data"
   ]
  },
  {
   "cell_type": "code",
   "execution_count": 9,
   "id": "0763ece3",
   "metadata": {},
   "outputs": [
    {
     "data": {
      "image/png": "[encoded data removed]",
      "text/plain": [
       "<Figure size 1000x200 with 5 Axes>"
      ]
     },
     "metadata": {},
     "output_type": "display_data"
    }
   ],
   "source": [
    "# Блок кода отвечающий за визуализацию, его редактировать не надо.\n",
    "import matplotlib.pyplot as plt\n",
    "\n",
    "fig, axes = plt.subplots(1, 5, figsize=(10,2))\n",
    "for i, ax in enumerate(axes):\n",
    "    img, label = train_data[i]\n",
    "    ax.imshow(img, cmap='gray')\n",
    "    ax.set_title(f\"Label: {label}\")\n",
    "    ax.axis('off')\n",
    "plt.show()"
   ]
  },
  {
   "cell_type": "markdown",
   "id": "60a1e985",
   "metadata": {},
   "source": [
    "## Задание 1. Загрузка с одновременной трансформацией"
   ]
  },
  {
   "cell_type": "code",
   "execution_count": null,
   "id": "79add11f",
   "metadata": {},
   "outputs": [
    {
     "data": {
      "image/png": "[encoded data removed]",
      "text/plain": [
       "<Figure size 1000x200 with 5 Axes>"
      ]
     },
     "metadata": {},
     "output_type": "display_data"
    }
   ],
   "source": [
    "\n",
    "import matplotlib.pyplot as plt\n",
    "import torchvision.transforms as transforms\n",
    "# from torchvision.datasets import MNIST\n",
    "from torchvision.datasets import FashionMNIST\n",
    "\n",
    "transform = transforms.Compose([\n",
    "    transforms.ToTensor(),                     # из [0,255] в [0,1]\n",
    "    transforms.Normalize((0.1307,), (0.3081,)) # нормализация (mean=0.1307,std=0.3081)\n",
    "    # Значения вычислены по всему тренировочному набору MNIST и помогают привести данные к нулевому среднему и единичному стандартному отклонению, что ускоряет и стабилизирует обучение.\n",
    "])\n",
    "\n",
    "# Загружаем тренировочные и тестовые данные\n",
    "train_data = FashionMNIST(root='./data', train=True, download=True, transform=transform)\n",
    "test_data = FashionMNIST(root='./data', train=False, download=True, transform=transform)\n",
    "\n",
    "\n",
    "# Блок кода отвечающий за визуализацию, его редактировать не надо.\n",
    "fig, axes = plt.subplots(1, 5, figsize=(10,2))\n",
    "for i, ax in enumerate(axes):\n",
    "    img, label = train_data[i]\n",
    "    ax.imshow(img.squeeze(), cmap='gray')\n",
    "    ax.set_title(f\"Label: {label}\")\n",
    "    ax.axis('off')\n",
    "plt.show()"
   ]
  },
  {
   "cell_type": "markdown",
   "id": "f073b0c9",
   "metadata": {},
   "source": [
    "## Задание 2"
   ]
  },
  {
   "cell_type": "markdown",
   "id": "23615d01",
   "metadata": {},
   "source": [
    "1. Разбейте данные на тренировочную и валидационную выборки.\n",
    "1. Создайте загрузчики данных (DataLoader) для пакетной подачи в модель с размером батча 64. \n",
    "+ Для тренировки перемешайте данные с помощью параметра shuffle=True.\n",
    "+ Для валидации оставьте данные как есть.\n",
    "  DataLoader оборачивает Dataset и позволит итерироваться по мини‑батчам с помощью next(iter(train_loader)).\n",
    "3. Возьмите первый батч из train-выборки и выведите тензоры изображений и соответствующих меток."
   ]
  },
  {
   "cell_type": "code",
   "execution_count": 11,
   "id": "2c0c40f9",
   "metadata": {},
   "outputs": [
    {
     "name": "stdout",
     "output_type": "stream",
     "text": [
      "images.shape: torch.Size([64, 1, 28, 28])\n",
      "labels.shape: torch.Size([64])\n",
      "Метка первого изображения в батче: 7\n"
     ]
    },
    {
     "data": {
      "image/png": "[encoded data removed]",
      "text/plain": [
       "<Figure size 300x300 with 1 Axes>"
      ]
     },
     "metadata": {},
     "output_type": "display_data"
    }
   ],
   "source": [
    "\n",
    "from torch.utils.data import DataLoader, random_split\n",
    "import matplotlib.pyplot as plt\n",
    "import torchvision.transforms as transforms\n",
    "# from torchvision.datasets import MNIST\n",
    "from torchvision.datasets import FashionMNIST\n",
    "\n",
    "# Определяем преобразования\n",
    "transform = transforms.Compose([\n",
    "    transforms.ToTensor(),                     # из [0,255] в [0,1]\n",
    "    transforms.Normalize((0.1307,), (0.3081,)) # нормализация (mean=0.1307,std=0.3081)\n",
    "])\n",
    "\n",
    "# Загружаем данные MNIST\n",
    "train_data = FashionMNIST(root='./data', train=True, download=True, transform=transform)\n",
    "test_data  = FashionMNIST(root='./data', train=False, download=True, transform=transform)\n",
    "\n",
    "# Разделяем данные на тренировочную и валидационную выборки\n",
    "train_size = int(0.8 * len(train_data))\n",
    "val_size   = len(train_data) - train_size\n",
    "\n",
    "train_data, val_data = random_split(train_data, [train_size, val_size])\n",
    "\n",
    "# Создаем загрузчики данных\n",
    "train_loader = DataLoader(train_data, batch_size=64, shuffle=True)\n",
    "val_loader   = DataLoader(val_data, batch_size=64, shuffle=False)\n",
    "\n",
    "\n",
    "# Получаем первый батч из train-выборки\n",
    "images, labels = next(iter(train_loader))\n",
    "\n",
    "\n",
    "# Печатаем формы тензоров\n",
    "print(\"images.shape:\", images.shape)   # torch.Size([64, 1, 28, 28])\n",
    "print(\"labels.shape:\", labels.shape)   # torch.Size([64])\n",
    "\n",
    "\n",
    "# Выведем метку первого изображения\n",
    "first_label = labels[0].item()\n",
    "print(\"Метка первого изображения в батче:\", first_label)\n",
    "\n",
    "\n",
    "# Отобразим само первое изображение\n",
    "plt.figure(figsize=(3,3))\n",
    "plt.imshow(images[0].squeeze(), cmap='gray')\n",
    "plt.title(f\"Label: {first_label}\")\n",
    "plt.axis('off')\n",
    "plt.show()"
   ]
  },
  {
   "cell_type": "code",
   "execution_count": null,
   "id": "1e706f5a",
   "metadata": {},
   "outputs": [],
   "source": []
  },
  {
   "cell_type": "code",
   "execution_count": null,
   "id": "1e92833a",
   "metadata": {},
   "outputs": [],
   "source": []
  },
  {
   "cell_type": "code",
   "execution_count": null,
   "metadata": {},
   "outputs": [],
   "source": []
  },
  {
   "cell_type": "code",
   "execution_count": null,
   "id": "0910c9c4",
   "metadata": {},
   "outputs": [],
   "source": []
  },
  {
   "cell_type": "code",
   "execution_count": null,
   "id": "3f694934",
   "metadata": {},
   "outputs": [],
   "source": []
  },
  {
   "cell_type": "code",
   "execution_count": null,
   "id": "7c5fd4f3",
   "metadata": {},
   "outputs": [],
   "source": []
  },
  {
   "cell_type": "code",
   "execution_count": null,
   "id": "48d73679",
   "metadata": {},
   "outputs": [],
   "source": []
  },
  {
   "cell_type": "markdown",
   "id": "9aad11f3",
   "metadata": {},
   "source": [
    "# Задание"
   ]
  },
  {
   "cell_type": "markdown",
   "id": "89574759",
   "metadata": {},
   "source": [
    "**Формат задания**\n",
    "\n",
    "Выполните задание локально на своём устройстве: скопируйте код ниже, реализуйте шаги и проанализируйте результаты. \n",
    "\n",
    "Проверить задание вы сможете самостоятельно. В конце выполнения нажмите кнопку «Готово» и увидите авторское решение — с ним вы можете сверить свой вариант. \n",
    "\n",
    "**Что нужно сделать**\n",
    "\n",
    "Реализуйте и протестируйте свой собственный цикл обучения. Выполните такие шаги:\n",
    "\n",
    "1. Импортируйте библиотеки: torch, torchvision, matplotlib, clearml — и нужные модули.\n",
    "1. Реализуйте модель AdvancedMNISTMLPList, определённую в предыдущем уроке.\n",
    "1. Подготовьте данные: используйте torchvision.datasets.MNIST с DataLoader для обучающего и тестового наборов.\n",
    "1. Определите функцию потерь и оптимизатор: criterion = nn.CrossEntropyLoss(), optimizer = optim.Adam(...). Задайте подходящую скорость обучения (например, lr=0.001).\n",
    "1. Настройте подключение ClearML: вызовите Task.set_credentials(...) со своими данными, затем Task.init(project_name, task_name).\n",
    "1. Реализуйте цикл обучения в 5 эпох:\n",
    "+ Для каждой эпохи сбрасывайте метрику и собирайте новые значения loss и точности.\n",
    "+ Внутри цикла для каждого батча проводите прямой и обратный проход, обновление оптимизатором.\n",
    "+ После каждой эпохи вычисляйте среднюю потерю и точность на обучающем наборе.\n",
    "+ Выводите результат в консоль и отправляйте в ClearML (с помощью Logger.current_logger().report_scalar).\n",
    "7. Оцените модель на тестовом наборе после завершения обучения: вычислите test_loss и test_accuracy.\n",
    "8. Постройте графики потерь и точности по эпохам с помощью matplotlib. Сохраните или отобразите их. Убедитесь, что после обучения сохраняете значения epoch_loss и epoch_acc в списки для отрисовки графиков."
   ]
  },
  {
   "cell_type": "code",
   "execution_count": 1,
   "id": "4bb2044c",
   "metadata": {},
   "outputs": [],
   "source": [
    "import torch\n",
    "import torch.nn as nn\n",
    "import torch.optim as optim\n",
    "from torch.utils.data import DataLoader\n",
    "from torchvision import datasets, transforms\n",
    "import matplotlib.pyplot as plt\n",
    "from clearml import Task, Logger"
   ]
  },
  {
   "cell_type": "code",
   "execution_count": 2,
   "id": "185de806",
   "metadata": {},
   "outputs": [],
   "source": [
    "# Определяем модель AdvancedMNISTMLPList (с прошлого урока)\n",
    "class AdvancedMNISTMLPList(nn.Module):\n",
    "    def __init__(self):\n",
    "        super(AdvancedMNISTMLPList, self).__init__()\n",
    "        self.layers = nn.ModuleList([\n",
    "            nn.Linear(28*28, 128),\n",
    "            nn.ReLU(),\n",
    "            nn.Linear(128, 64),\n",
    "            nn.ReLU(),\n",
    "            nn.Linear(64, 10)\n",
    "        ])\n",
    "        \n",
    "    def forward(self, x):\n",
    "        x = x.view(-1, 28*28)  # раскладываем картинку в вектор\n",
    "        for layer in self.layers:\n",
    "            x = layer(x)\n",
    "        return x"
   ]
  },
  {
   "cell_type": "code",
   "execution_count": 3,
   "id": "db5a0efe",
   "metadata": {},
   "outputs": [
    {
     "data": {
      "text/plain": [
       "AdvancedMNISTMLPList(\n",
       "  (layers): ModuleList(\n",
       "    (0): Linear(in_features=784, out_features=128, bias=True)\n",
       "    (1): ReLU()\n",
       "    (2): Linear(in_features=128, out_features=64, bias=True)\n",
       "    (3): ReLU()\n",
       "    (4): Linear(in_features=64, out_features=10, bias=True)\n",
       "  )\n",
       ")"
      ]
     },
     "execution_count": 3,
     "metadata": {},
     "output_type": "execute_result"
    }
   ],
   "source": [
    "# Инициализируем модель\n",
    "model = AdvancedMNISTMLPList()\n",
    "model"
   ]
  },
  {
   "cell_type": "code",
   "execution_count": 4,
   "id": "40e6e2a7",
   "metadata": {},
   "outputs": [
    {
     "ename": "RuntimeError",
     "evalue": "Error downloading train-images-idx3-ubyte.gz:\nTried https://ossci-datasets.s3.amazonaws.com/mnist/, got:\n<urlopen error [SSL: CERTIFICATE_VERIFY_FAILED] certificate verify failed: unable to get local issuer certificate (_ssl.c:1010)>\nTried http://yann.lecun.com/exdb/mnist/, got:\nHTTP Error 404: Not Found\n",
     "output_type": "error",
     "traceback": [
      "\u001b[31m---------------------------------------------------------------------------\u001b[39m",
      "\u001b[31mRuntimeError\u001b[39m                              Traceback (most recent call last)",
      "\u001b[36mCell\u001b[39m\u001b[36m \u001b[39m\u001b[32mIn[4]\u001b[39m\u001b[32m, line 3\u001b[39m\n\u001b[32m      1\u001b[39m \u001b[38;5;66;03m# Загружаем данные MNIST (тренировочный и тестовый набор)\u001b[39;00m\n\u001b[32m      2\u001b[39m transform = transforms.Compose([transforms.ToTensor()])\n\u001b[32m----> \u001b[39m\u001b[32m3\u001b[39m train_dataset = \u001b[43mdatasets\u001b[49m\u001b[43m.\u001b[49m\u001b[43mMNIST\u001b[49m\u001b[43m(\u001b[49m\u001b[43mroot\u001b[49m\u001b[43m=\u001b[49m\u001b[33;43m'\u001b[39;49m\u001b[33;43m./data\u001b[39;49m\u001b[33;43m'\u001b[39;49m\u001b[43m,\u001b[49m\u001b[43m \u001b[49m\u001b[43mtrain\u001b[49m\u001b[43m=\u001b[49m\u001b[38;5;28;43;01mTrue\u001b[39;49;00m\u001b[43m,\u001b[49m\u001b[43m \u001b[49m\u001b[43mdownload\u001b[49m\u001b[43m=\u001b[49m\u001b[38;5;28;43;01mTrue\u001b[39;49;00m\u001b[43m,\u001b[49m\u001b[43m \u001b[49m\u001b[43mtransform\u001b[49m\u001b[43m=\u001b[49m\u001b[43mtransform\u001b[49m\u001b[43m)\u001b[49m\n\u001b[32m      4\u001b[39m test_dataset  = datasets.MNIST(root=\u001b[33m'\u001b[39m\u001b[33m./data\u001b[39m\u001b[33m'\u001b[39m, train=\u001b[38;5;28;01mFalse\u001b[39;00m, download=\u001b[38;5;28;01mTrue\u001b[39;00m, transform=transform)\n",
      "\u001b[36mFile \u001b[39m\u001b[32mc:\\Users\\Ushankova.M.Ju\\yandex\\dle-sprint-1\\.venv\\Lib\\site-packages\\torchvision\\datasets\\mnist.py:100\u001b[39m, in \u001b[36mMNIST.__init__\u001b[39m\u001b[34m(self, root, train, transform, target_transform, download)\u001b[39m\n\u001b[32m     97\u001b[39m     \u001b[38;5;28;01mreturn\u001b[39;00m\n\u001b[32m     99\u001b[39m \u001b[38;5;28;01mif\u001b[39;00m download:\n\u001b[32m--> \u001b[39m\u001b[32m100\u001b[39m     \u001b[38;5;28;43mself\u001b[39;49m\u001b[43m.\u001b[49m\u001b[43mdownload\u001b[49m\u001b[43m(\u001b[49m\u001b[43m)\u001b[49m\n\u001b[32m    102\u001b[39m \u001b[38;5;28;01mif\u001b[39;00m \u001b[38;5;129;01mnot\u001b[39;00m \u001b[38;5;28mself\u001b[39m._check_exists():\n\u001b[32m    103\u001b[39m     \u001b[38;5;28;01mraise\u001b[39;00m \u001b[38;5;167;01mRuntimeError\u001b[39;00m(\u001b[33m\"\u001b[39m\u001b[33mDataset not found. You can use download=True to download it\u001b[39m\u001b[33m\"\u001b[39m)\n",
      "\u001b[36mFile \u001b[39m\u001b[32mc:\\Users\\Ushankova.M.Ju\\yandex\\dle-sprint-1\\.venv\\Lib\\site-packages\\torchvision\\datasets\\mnist.py:197\u001b[39m, in \u001b[36mMNIST.download\u001b[39m\u001b[34m(self)\u001b[39m\n\u001b[32m    195\u001b[39m \u001b[38;5;28;01mfor\u001b[39;00m mirror, err \u001b[38;5;129;01min\u001b[39;00m \u001b[38;5;28mzip\u001b[39m(\u001b[38;5;28mself\u001b[39m.mirrors, errors):\n\u001b[32m    196\u001b[39m     s += \u001b[33mf\u001b[39m\u001b[33m\"\u001b[39m\u001b[33mTried \u001b[39m\u001b[38;5;132;01m{\u001b[39;00mmirror\u001b[38;5;132;01m}\u001b[39;00m\u001b[33m, got:\u001b[39m\u001b[38;5;130;01m\\n\u001b[39;00m\u001b[38;5;132;01m{\u001b[39;00m\u001b[38;5;28mstr\u001b[39m(err)\u001b[38;5;132;01m}\u001b[39;00m\u001b[38;5;130;01m\\n\u001b[39;00m\u001b[33m\"\u001b[39m\n\u001b[32m--> \u001b[39m\u001b[32m197\u001b[39m \u001b[38;5;28;01mraise\u001b[39;00m \u001b[38;5;167;01mRuntimeError\u001b[39;00m(s)\n",
      "\u001b[31mRuntimeError\u001b[39m: Error downloading train-images-idx3-ubyte.gz:\nTried https://ossci-datasets.s3.amazonaws.com/mnist/, got:\n<urlopen error [SSL: CERTIFICATE_VERIFY_FAILED] certificate verify failed: unable to get local issuer certificate (_ssl.c:1010)>\nTried http://yann.lecun.com/exdb/mnist/, got:\nHTTP Error 404: Not Found\n"
     ]
    }
   ],
   "source": [
    "# Загружаем данные MNIST (тренировочный и тестовый набор)\n",
    "transform = transforms.Compose([transforms.ToTensor()])\n",
    "train_dataset = datasets.MNIST(root='./data', train=True, download=True, transform=transform)\n",
    "test_dataset  = datasets.MNIST(root='./data', train=False, download=True, transform=transform)"
   ]
  },
  {
   "cell_type": "code",
   "execution_count": null,
   "id": "dc72faa8",
   "metadata": {},
   "outputs": [],
   "source": []
  },
  {
   "cell_type": "code",
   "execution_count": null,
   "id": "e32aa4c8",
   "metadata": {},
   "outputs": [],
   "source": []
  },
  {
   "cell_type": "code",
   "execution_count": null,
   "id": "bdffc6c8",
   "metadata": {},
   "outputs": [],
   "source": []
  },
  {
   "cell_type": "code",
   "execution_count": null,
   "id": "0ece586a",
   "metadata": {},
   "outputs": [],
   "source": []
  },
  {
   "cell_type": "code",
   "execution_count": null,
   "id": "d190ed81",
   "metadata": {},
   "outputs": [],
   "source": []
  },
  {
   "cell_type": "code",
   "execution_count": null,
   "id": "25e7fe42",
   "metadata": {},
   "outputs": [],
   "source": []
  },
  {
   "cell_type": "code",
   "execution_count": null,
   "id": "0fb1d214",
   "metadata": {},
   "outputs": [],
   "source": []
  }
 ],
 "metadata": {
  "kernelspec": {
   "display_name": ".venv",
   "language": "python",
   "name": "python3"
  },
  "language_info": {
   "codemirror_mode": {
    "name": "ipython",
    "version": 3
   },
   "file_extension": ".py",
   "mimetype": "text/x-python",
   "name": "python",
   "nbconvert_exporter": "python",
   "pygments_lexer": "ipython3",
   "version": "3.12.10"
  }
 },
 "nbformat": 4,
 "nbformat_minor": 5
}
