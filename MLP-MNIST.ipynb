{
 "cells": [
  {
   "cell_type": "markdown",
   "id": "556bb1d8",
   "metadata": {},
   "source": [
    "# Подготовка данных на примере задачи распознавания цифр"
   ]
  },
  {
   "cell_type": "markdown",
   "id": "2f40ba0f",
   "metadata": {},
   "source": [
    "Загрузка датасета"
   ]
  },
  {
   "cell_type": "code",
   "execution_count": null,
   "id": "a03c7412",
   "metadata": {},
   "outputs": [],
   "source": [
    "# Если при скачивании датасета появляется ошибка [SSL: CERTIFICATE_VERIFY_FAILED] - выполните эту ячейку.\n",
    "# Это отключит проверку ssl сертификатов при скачивании.\n",
    "\n",
    "# import ssl \n",
    "# ssl._create_default_https_context = ssl._create_unverified_context"
   ]
  },
  {
   "cell_type": "code",
   "execution_count": 1,
   "id": "abdc6cad",
   "metadata": {},
   "outputs": [
    {
     "name": "stderr",
     "output_type": "stream",
     "text": [
      "100%|██████████| 9.91M/9.91M [00:05<00:00, 1.97MB/s]\n",
      "100%|██████████| 28.9k/28.9k [00:00<00:00, 234kB/s]\n",
      "100%|██████████| 1.65M/1.65M [00:01<00:00, 1.11MB/s]\n",
      "100%|██████████| 4.54k/4.54k [00:00<?, ?B/s]\n"
     ]
    },
    {
     "data": {
      "text/plain": [
       "(Dataset MNIST\n",
       "     Number of datapoints: 60000\n",
       "     Root location: ./data\n",
       "     Split: Train,\n",
       " Dataset MNIST\n",
       "     Number of datapoints: 10000\n",
       "     Root location: ./data\n",
       "     Split: Test)"
      ]
     },
     "execution_count": 1,
     "metadata": {},
     "output_type": "execute_result"
    }
   ],
   "source": [
    "\n",
    "# from torchvision.datasets import MNIST\n",
    "\n",
    "# train_data = MNIST(root='./data', train=True, download=True, transform=None)\n",
    "# test_data  = MNIST(root='./data', train=False, download=True, transform=None)\n",
    "\n",
    "# from torchvision.datasets import MNIST\n",
    "\n",
    "# train_data = MNIST(root='./data', train=True, download=False, transform=None)\n",
    "# test_data  = MNIST(root='./data', train=False, download=False, transform=None)\n",
    "\n",
    "from torchvision.datasets import MNIST\n",
    "train_data = MNIST(root='./data', train=True, download=True, transform=None)\n",
    "test_data  = MNIST(root='./data', train=False, download=True, transform=None)\n",
    "\n",
    "# from torchvision.datasets import FashionMNIST\n",
    "\n",
    "# train_data = FashionMNIST(root='./data', train=True, download=True, transform=None)\n",
    "# test_data  = FashionMNIST(root='./data', train=False, download=True, transform=None)\n",
    "\n",
    "train_data, test_data"
   ]
  },
  {
   "cell_type": "code",
   "execution_count": 2,
   "id": "0763ece3",
   "metadata": {},
   "outputs": [
    {
     "data": {
      "image/png": "[encoded data removed]",
      "text/plain": [
       "<Figure size 1000x200 with 5 Axes>"
      ]
     },
     "metadata": {},
     "output_type": "display_data"
    }
   ],
   "source": [
    "# Блок кода отвечающий за визуализацию, его редактировать не надо.\n",
    "import matplotlib.pyplot as plt\n",
    "\n",
    "fig, axes = plt.subplots(1, 5, figsize=(10,2))\n",
    "for i, ax in enumerate(axes):\n",
    "    img, label = train_data[i]\n",
    "    ax.imshow(img, cmap='gray')\n",
    "    ax.set_title(f\"Label: {label}\")\n",
    "    ax.axis('off')\n",
    "plt.show()"
   ]
  },
  {
   "cell_type": "markdown",
   "id": "60a1e985",
   "metadata": {},
   "source": [
    "## Задание 1. Загрузка с одновременной трансформацией"
   ]
  },
  {
   "cell_type": "code",
   "execution_count": 3,
   "id": "79add11f",
   "metadata": {},
   "outputs": [
    {
     "name": "stderr",
     "output_type": "stream",
     "text": [
      "100%|██████████| 26.4M/26.4M [00:06<00:00, 4.02MB/s]\n",
      "100%|██████████| 29.5k/29.5k [00:00<00:00, 838kB/s]\n",
      "100%|██████████| 4.42M/4.42M [00:01<00:00, 4.33MB/s]\n",
      "100%|██████████| 5.15k/5.15k [00:00<?, ?B/s]\n"
     ]
    },
    {
     "data": {
      "image/png": "[encoded data removed]",
      "text/plain": [
       "<Figure size 1000x200 with 5 Axes>"
      ]
     },
     "metadata": {},
     "output_type": "display_data"
    }
   ],
   "source": [
    "\n",
    "import matplotlib.pyplot as plt\n",
    "import torchvision.transforms as transforms\n",
    "# from torchvision.datasets import MNIST\n",
    "from torchvision.datasets import FashionMNIST\n",
    "\n",
    "transform = transforms.Compose([\n",
    "    transforms.ToTensor(),                     # из [0,255] в [0,1]\n",
    "    transforms.Normalize((0.1307,), (0.3081,)) # нормализация (mean=0.1307,std=0.3081)\n",
    "    # Значения вычислены по всему тренировочному набору MNIST и помогают привести данные к нулевому среднему и единичному стандартному отклонению, что ускоряет и стабилизирует обучение.\n",
    "])\n",
    "\n",
    "# Загружаем тренировочные и тестовые данные\n",
    "train_data = FashionMNIST(root='./data', train=True, download=True, transform=transform)\n",
    "test_data = FashionMNIST(root='./data', train=False, download=True, transform=transform)\n",
    "\n",
    "\n",
    "# Блок кода отвечающий за визуализацию, его редактировать не надо.\n",
    "fig, axes = plt.subplots(1, 5, figsize=(10,2))\n",
    "for i, ax in enumerate(axes):\n",
    "    img, label = train_data[i]\n",
    "    ax.imshow(img.squeeze(), cmap='gray')\n",
    "    ax.set_title(f\"Label: {label}\")\n",
    "    ax.axis('off')\n",
    "plt.show()"
   ]
  },
  {
   "cell_type": "markdown",
   "id": "f073b0c9",
   "metadata": {},
   "source": [
    "## Задание 2"
   ]
  },
  {
   "cell_type": "markdown",
   "id": "23615d01",
   "metadata": {},
   "source": [
    "1. Разбейте данные на тренировочную и валидационную выборки.\n",
    "1. Создайте загрузчики данных (DataLoader) для пакетной подачи в модель с размером батча 64. \n",
    "+ Для тренировки перемешайте данные с помощью параметра shuffle=True.\n",
    "+ Для валидации оставьте данные как есть.\n",
    "  DataLoader оборачивает Dataset и позволит итерироваться по мини‑батчам с помощью next(iter(train_loader)).\n",
    "3. Возьмите первый батч из train-выборки и выведите тензоры изображений и соответствующих меток."
   ]
  },
  {
   "cell_type": "code",
   "execution_count": null,
   "id": "2c0c40f9",
   "metadata": {},
   "outputs": [
    {
     "name": "stdout",
     "output_type": "stream",
     "text": [
      "images.shape: torch.Size([64, 1, 28, 28])\n",
      "labels.shape: torch.Size([64])\n",
      "Метка первого изображения в батче: 5\n"
     ]
    },
    {
     "data": {
      "image/png": "[encoded data removed]",
      "text/plain": [
       "<Figure size 300x300 with 1 Axes>"
      ]
     },
     "metadata": {},
     "output_type": "display_data"
    }
   ],
   "source": [
    "\n",
    "from torch.utils.data import DataLoader, random_split\n",
    "import matplotlib.pyplot as plt\n",
    "import torchvision.transforms as transforms\n",
    "from torchvision.datasets import MNIST\n",
    "# from torchvision.datasets import FashionMNIST\n",
    "\n",
    "# Определяем преобразования\n",
    "transform = transforms.Compose([\n",
    "    transforms.ToTensor(),                     # из [0,255] в [0,1]\n",
    "    transforms.Normalize((0.1307,), (0.3081,)) # нормализация (mean=0.1307,std=0.3081)\n",
    "])\n",
    "\n",
    "# Загружаем данные MNIST\n",
    "train_data = MNIST(root='./data', train=True, download=False, transform=transform)\n",
    "test_data  = MNIST(root='./data', train=False, download=False, transform=transform)\n",
    "# train_data = FashionMNIST(root='./data', train=True, download=False, transform=transform)\n",
    "# test_data  = FashionMNIST(root='./data', train=False, download=False, transform=transform)\n",
    "\n",
    "# Разделяем данные на тренировочную и валидационную выборки\n",
    "train_size = int(0.8 * len(train_data))\n",
    "val_size   = len(train_data) - train_size\n",
    "\n",
    "train_data, val_data = random_split(train_data, [train_size, val_size])\n",
    "\n",
    "# Создаем загрузчики данных\n",
    "train_loader = DataLoader(train_data, batch_size=64, shuffle=True)\n",
    "val_loader   = DataLoader(val_data, batch_size=64, shuffle=False)\n",
    "\n",
    "\n",
    "# Получаем первый батч из train-выборки\n",
    "images, labels = next(iter(train_loader))\n",
    "\n",
    "\n",
    "# Печатаем формы тензоров\n",
    "print(\"images.shape:\", images.shape)   # torch.Size([64, 1, 28, 28])\n",
    "print(\"labels.shape:\", labels.shape)   # torch.Size([64])\n",
    "\n",
    "\n",
    "# Выведем метку первого изображения\n",
    "first_label = labels[0].item()\n",
    "print(\"Метка первого изображения в батче:\", first_label)\n",
    "\n",
    "\n",
    "# Отобразим само первое изображение\n",
    "plt.figure(figsize=(3,3))\n",
    "plt.imshow(images[0].squeeze(), cmap='gray')\n",
    "plt.title(f\"Label: {first_label}\")\n",
    "plt.axis('off')\n",
    "plt.show()"
   ]
  },
  {
   "cell_type": "markdown",
   "id": "52355c3e",
   "metadata": {},
   "source": [
    "# Продвинутые приёмы построения MLP на PyTorch"
   ]
  },
  {
   "cell_type": "markdown",
   "id": "a3acb443",
   "metadata": {},
   "source": [
    "## Задание 1"
   ]
  },
  {
   "cell_type": "markdown",
   "id": "8c2c5468",
   "metadata": {},
   "source": [
    "1. Определите модель через nn.Sequential.\n",
    "1. Прогоните один батч через модель и проверьте форму выхода.\n",
    "1. Обучите модель на этом батче:\n",
    "+ Определите optimizer c lr = 0.01 и criterion = nn.CrossEntropyLoss().\n",
    "+ Выполните прямой проход, посчитайте loss.\n",
    "+ Выведите форму выхода и значение loss."
   ]
  },
  {
   "cell_type": "code",
   "execution_count": 2,
   "id": "1e706f5a",
   "metadata": {},
   "outputs": [
    {
     "name": "stdout",
     "output_type": "stream",
     "text": [
      "Output shape: torch.Size([64, 10])\n",
      "Loss после одного шага: 2.3357880115509033\n"
     ]
    }
   ],
   "source": [
    "\n",
    "import torch\n",
    "from torch import nn\n",
    "from torch.utils.data import DataLoader, random_split\n",
    "import torchvision.transforms as transforms\n",
    "from torchvision.datasets import MNIST\n",
    "\n",
    "\n",
    "# Готовим данные\n",
    "transform = transforms.Compose([\n",
    "    transforms.ToTensor(),\n",
    "    transforms.Normalize((0.1307,), (0.3081,))\n",
    "])\n",
    "\n",
    "\n",
    "# Подготовка данных из прошлого урока\n",
    "dataset = MNIST(root='./data', train=True, download=False, transform=transform)\n",
    "train_size = int(0.8 * len(dataset))\n",
    "val_size   = len(dataset) - train_size\n",
    "\n",
    "train_data, val_data = random_split(dataset, [train_size, val_size])\n",
    "train_loader = DataLoader(train_data, batch_size=64, shuffle=True)\n",
    "val_loader   = DataLoader(val_data,   batch_size=64, shuffle=False)\n",
    "images, labels = next(iter(train_loader))\n",
    "\n",
    "# Определяем модель через nn.Sequential\n",
    "model_seq = nn.Sequential(\n",
    "    nn.Flatten(),          # Разворачиваем изображение 1×28×28 → 784\n",
    "    nn.Linear(784, 256),  # Полносвязный слой с 256 нейронами\n",
    "    nn.ReLU(),            # Активация ReLU\n",
    "    nn.Linear(256, 128),  # Полносвязный слой с 128 нейронами\n",
    "    nn.ReLU(),            # Активация ReLU\n",
    "    nn.Linear(128, 10)    # Полносвязный слой на 10 классов (цифры от 0 до 9)\n",
    ")\n",
    "\n",
    "\n",
    "# Прогон и обучение одного батча\n",
    "out_seq = model_seq(images)\n",
    "print(\"Output shape:\", out_seq.shape)   # ожидаем [64, 10]\n",
    "\n",
    "\n",
    "# Оптимизатор и функция потерь\n",
    "optimizer = torch.optim.SGD(model_seq.parameters(), lr=0.01)  # Оптимизатор SGD\n",
    "criterion = nn.CrossEntropyLoss()  # Функция потерь\n",
    "\n",
    "# Прямой проход\n",
    "loss = criterion(out_seq, labels)  # Вычисляем потерю\n",
    "optimizer.zero_grad()               # Обнуляем градиенты\n",
    "loss.backward()                     # Обратное распространение\n",
    "optimizer.step() \n",
    "\n",
    "\n",
    "print(\"Loss после одного шага:\", loss.item())"
   ]
  },
  {
   "cell_type": "markdown",
   "id": "88013d39",
   "metadata": {},
   "source": [
    "## Задание 2"
   ]
  },
  {
   "cell_type": "markdown",
   "id": "ae9a7885",
   "metadata": {},
   "source": [
    "1. Дополните класс по архитектуре:\n",
    "+ Linear(784→256) → BatchNorm1d(256) → ReLU → Dropout(0.5)\n",
    "+ Linear(256→128) → ReLU\n",
    "+ Linear(128→10)\n",
    "+ Инициализировать все Linear-слои методом Xavier (xavier_uniform_).\n",
    "2. Возьмите один батч из train‑лоадера и прогоните его через модель (сделайте прямой проход)."
   ]
  },
  {
   "cell_type": "code",
   "execution_count": 3,
   "id": "1e92833a",
   "metadata": {},
   "outputs": [
    {
     "name": "stdout",
     "output_type": "stream",
     "text": [
      "Output shape: torch.Size([64, 10])\n",
      "Batch labels shape: torch.Size([64])\n"
     ]
    }
   ],
   "source": [
    "\n",
    "import torch\n",
    "import torch.nn as nn\n",
    "import torch.nn.init as init\n",
    "import torchvision\n",
    "from torchvision import transforms\n",
    "from torch.utils.data import DataLoader\n",
    "\n",
    "\n",
    "# Реализация класса\n",
    "class AdvancedMNISTMLP(nn.Module):\n",
    "    def __init__(self):\n",
    "        super().__init__()\n",
    "        #   Определите слои:\n",
    "        #   Linear(784→256), BatchNorm1d(256), ReLU, Dropout(0.5), \n",
    "        #   Linear(256→128), ReLU, Linear(128→10)\n",
    "        self.linear1 = nn.Linear(784, 256)\n",
    "        self.bn1 = nn.BatchNorm1d(256)\n",
    "        self.relu = nn.ReLU()\n",
    "        self.dropout = nn.Dropout(0.5)\n",
    "        self.linear2 = nn.Linear(256, 128)\n",
    "        self.linear3 = nn.Linear(128, 10)\n",
    "        \n",
    "        # Инициализация весов слоёв Linear\n",
    "        init.xavier_uniform_(self.linear1.weight)\n",
    "        init.xavier_uniform_(self.linear2.weight)\n",
    "        init.xavier_uniform_(self.linear3.weight)\n",
    "        # Смещения (bias) по умолчанию инициализируются нулями\n",
    "\n",
    "\n",
    "    def forward(self, x):\n",
    "        # Разворачиваем изображение (batch,1,28,28) → (batch,784)\n",
    "        x = x.view(x.size(0), -1)  # разворачиваем изображение\n",
    "        x = self.linear1(x)\n",
    "        x = self.bn1(x)             # нормируем\n",
    "        x = self.relu(x)\n",
    "        x = self.dropout(x)         # регуляризация\n",
    "        x = self.linear2(x)\n",
    "        x = self.relu(x)\n",
    "        x = self.linear3(x)\n",
    "        return x\n",
    "\n",
    "\n",
    "# Загрузка данных и DataLoader\n",
    "\n",
    "transform = transforms.Compose([\n",
    "    transforms.ToTensor(),\n",
    "    transforms.Normalize((0.1307,), (0.3081,))\n",
    "])\n",
    "train_data = torchvision.datasets.MNIST(root='./data', train=True, download=False, transform=transform)\n",
    "train_loader = DataLoader(train_data, batch_size=64, shuffle=True)\n",
    "\n",
    "\n",
    "# Один батч и прямой проход\n",
    "model = AdvancedMNISTMLP()\n",
    "\n",
    "\n",
    "images, labels = next(iter(train_loader))\n",
    "\n",
    "\n",
    "outputs = model(images)\n",
    "\n",
    "\n",
    "# Вывод результатов\n",
    "print(\"Output shape:\", outputs.shape)      # ожидаем [64, 10]\n",
    "print(\"Batch labels shape:\", labels.shape) # [64]"
   ]
  },
  {
   "cell_type": "markdown",
   "id": "76b3928b",
   "metadata": {},
   "source": [
    "## Задание 3"
   ]
  },
  {
   "cell_type": "markdown",
   "id": "21c4cc5f",
   "metadata": {},
   "source": [
    "Сделайте более простую реализацию — через через контейнер nn.Sequential.\n",
    "\n",
    "Ваша задача — реализовать класс AdvancedMNISTMLPSeq, который:\n",
    "\n",
    "1. Использует контейнер nn.Sequential для сборки таких блоков:\n",
    "+ Flatten — разворачивание входа (batch, 1, 28, 28) → (batch, 784);\n",
    "+ Linear(784 → 256), BatchNorm1d(256), ReLU, Dropout(p=0.5);\n",
    "+ Linear(256 → 128), ReLU;\n",
    "+ Linear(128 → 10).\n",
    "2. В конструкторе инициализирует все Linear‑слои методом Xavier (xavier_uniform_), а их bias обнуляет.\n",
    "3. В forward вызывает self.net(x), позволяя Sequential пройти по всем модулям."
   ]
  },
  {
   "cell_type": "code",
   "execution_count": null,
   "id": "3382af1d",
   "metadata": {},
   "outputs": [
    {
     "name": "stdout",
     "output_type": "stream",
     "text": [
      "Output shape: torch.Size([64, 10])\n",
      "Batch labels shape: torch.Size([64])\n"
     ]
    }
   ],
   "source": [
    "import torch\n",
    "import torch.nn as nn\n",
    "import torch.nn.init as init\n",
    "import torchvision\n",
    "from torchvision import transforms\n",
    "from torch.utils.data import DataLoader\n",
    "\n",
    "# Класс через Sequential\n",
    "class AdvancedMNISTMLPSeq(nn.Module):\n",
    "    def __init__(self):\n",
    "        super().__init__()\n",
    "        # Составьте nn.Sequential так, чтобы в нём были:\n",
    "        #   Flatten,\n",
    "        #   Linear(784→256), BatchNorm1d(256), ReLU, Dropout(0.5),\n",
    "        #   Linear(256→128), ReLU,\n",
    "        #   Linear(128→10)\n",
    "        self.net = nn.Sequential(\n",
    "            nn.Flatten(),  # Разворачиваем вход (batch, 1, 28, 28) → (batch, 784)\n",
    "            nn.Linear(784, 256),\n",
    "            nn.BatchNorm1d(256),\n",
    "            nn.ReLU(),\n",
    "            nn.Dropout(0.5),\n",
    "            nn.Linear(256, 128),\n",
    "            nn.ReLU(),\n",
    "            nn.Linear(128, 10)\n",
    "        )\n",
    "        \n",
    "        # Инициализация всех Linear-слоев Xavier’ом\n",
    "        for layer in self.net:\n",
    "            if isinstance(layer, nn.Linear):\n",
    "                init.xavier_uniform_(layer.weight)\n",
    "                nn.init.zeros_(layer.bias)  # Обнуляем смещения\n",
    "\n",
    "\n",
    "    def forward(self, x):\n",
    "        return self.net(x)\n",
    "\n",
    "# Загрузка данных и DataLoader\n",
    "transform = transforms.Compose([\n",
    "    transforms.ToTensor(),\n",
    "    transforms.Normalize((0.1307,), (0.3081,))\n",
    "])\n",
    "train_data = torchvision.datasets.MNIST(root='./data', train=True, download=False, transform=transform)\n",
    "train_loader = DataLoader(train_data, batch_size=64, shuffle=True)\n",
    "\n",
    "# Один батч и прямой проход\n",
    "model = AdvancedMNISTMLPSeq()\n",
    "\n",
    "images, labels = next(iter(train_loader))\n",
    "\n",
    "outputs = model(images)\n",
    "\n",
    "# Прогон одного батча\n",
    "model = AdvancedMNISTMLPSeq()\n",
    "images, labels = next(iter(train_loader))\n",
    "outputs = model(images)\n",
    "print(\"Output shape:\", outputs.shape)  # [64,10]\n",
    "print(\"Batch labels shape:\", labels.shape) # [64]"
   ]
  },
  {
   "cell_type": "markdown",
   "id": "c45ede9d",
   "metadata": {},
   "source": [
    "## Задание 4"
   ]
  },
  {
   "cell_type": "markdown",
   "id": "6f33737a",
   "metadata": {},
   "source": [
    "Теперь ваша задача — реализовать класс AdvancedMNISTMLPList, который:\n",
    "\n",
    "1. Использует контейнер nn.ModuleList для хранения блоков:\n",
    "+ Linear(784 → 256), BatchNorm1d(256), ReLU, Dropout(p=0.5);\n",
    "+ Linear(256 → 128), ReLU;\n",
    "+ Linear(128 → 10).\n",
    "2. Добавляет отдельный nn.Flatten() в __init__ для разворачивания входа (batch, 1, 28, 28) → (batch, 784).\n",
    "3. В конструкторе инициализирует все Linear‑слои методом Xavier (xavier_uniform_), а их bias обнуляет.\n",
    "4. В forward сначала разворачивает вход, затем вручную последовательно применяет каждый слой из ModuleList."
   ]
  },
  {
   "cell_type": "code",
   "execution_count": 5,
   "id": "0910c9c4",
   "metadata": {},
   "outputs": [
    {
     "name": "stdout",
     "output_type": "stream",
     "text": [
      "Output shape: torch.Size([64, 10])\n",
      "Batch labels shape: torch.Size([64])\n"
     ]
    }
   ],
   "source": [
    "\n",
    "import torch\n",
    "import torch.nn as nn\n",
    "import torch.nn.init as init\n",
    "import torchvision.transforms as transforms\n",
    "from torch.utils.data import DataLoader\n",
    "from torchvision.datasets import MNIST\n",
    "\n",
    "\n",
    "# Класс через ModuleList\n",
    "\n",
    "class AdvancedMNISTMLPList(nn.Module):\n",
    "    def __init__(self):\n",
    "        super().__init__()\n",
    "        # Используйте nn.Flatten() + nn.ModuleList для:\n",
    "        #   Linear(784→256), BatchNorm1d(256), ReLU, Dropout(0.5),\n",
    "        #   Linear(256→128), ReLU,\n",
    "        #   Linear(128→10)\n",
    "        self.flatten = nn.Flatten()\n",
    "        self.layers = nn.ModuleList([\n",
    "            nn.Linear(784, 256),\n",
    "            nn.BatchNorm1d(256),\n",
    "            nn.ReLU(),\n",
    "            nn.Dropout(0.5),\n",
    "            nn.Linear(256, 128),\n",
    "            nn.ReLU(),\n",
    "            nn.Linear(128, 10)\n",
    "        ])\n",
    "        \n",
    "        # Инициализация всех Linear-слоев Xavier’ем\n",
    "        for layer in self.layers:\n",
    "            if isinstance(layer, nn.Linear):\n",
    "                init.xavier_uniform_(layer.weight)\n",
    "                nn.init.zeros_(layer.bias)  # Обнуляем смещения\n",
    "\n",
    "\n",
    "    def forward(self, x):\n",
    "        x = self.flatten(x)\n",
    "        # Пройдите по self.layers по порядку и примените каждый модуль\n",
    "        for layer in self.layers:\n",
    "            x = layer(x)\n",
    "        return x\n",
    "\n",
    "\n",
    "# Загрузка данных и DataLoader\n",
    "\n",
    "transform = transforms.Compose([\n",
    "    transforms.ToTensor(),\n",
    "    transforms.Normalize((0.1307,), (0.3081,))\n",
    "])\n",
    "train_data = MNIST(root='./data', train=True, download=False, transform=transform)\n",
    "train_loader = DataLoader(train_data, batch_size=64, shuffle=True)\n",
    "\n",
    "\n",
    "\n",
    "\n",
    "# Один батч и прямой проход\n",
    "model = AdvancedMNISTMLPList()\n",
    "\n",
    "\n",
    "images, labels = next(iter(train_loader))\n",
    "\n",
    "\n",
    "outputs = model(images)\n",
    "\n",
    "\n",
    "# Вывод результатов\n",
    "print(\"Output shape:\", outputs.shape)      # ожидаем [64, 10]\n",
    "print(\"Batch labels shape:\", labels.shape) # [64]"
   ]
  },
  {
   "cell_type": "markdown",
   "id": "088f3822",
   "metadata": {},
   "source": [
    "# Сохранение модели и инференс на новых данных"
   ]
  },
  {
   "cell_type": "markdown",
   "id": "28ecd3a1",
   "metadata": {},
   "source": [
    "Сохранение полной модели"
   ]
  },
  {
   "cell_type": "code",
   "execution_count": 7,
   "id": "3f694934",
   "metadata": {},
   "outputs": [
    {
     "data": {
      "text/plain": [
       "AdvancedMNISTMLPList(\n",
       "  (flatten): Flatten(start_dim=1, end_dim=-1)\n",
       "  (layers): ModuleList(\n",
       "    (0): Linear(in_features=784, out_features=256, bias=True)\n",
       "    (1): BatchNorm1d(256, eps=1e-05, momentum=0.1, affine=True, track_running_stats=True)\n",
       "    (2): ReLU()\n",
       "    (3): Dropout(p=0.5, inplace=False)\n",
       "    (4): Linear(in_features=256, out_features=128, bias=True)\n",
       "    (5): ReLU()\n",
       "    (6): Linear(in_features=128, out_features=10, bias=True)\n",
       "  )\n",
       ")"
      ]
     },
     "execution_count": 7,
     "metadata": {},
     "output_type": "execute_result"
    }
   ],
   "source": [
    "\n",
    "torch.save(model, './model/full_model.pth')\n",
    "load_model = torch.load('./model/full_model.pth', weights_only=False) # Указываем, что не загружаем только веса\n",
    "load_model"
   ]
  },
  {
   "cell_type": "markdown",
   "id": "983dd19a",
   "metadata": {},
   "source": [
    "## Задание 1"
   ]
  },
  {
   "cell_type": "markdown",
   "id": "c666258f",
   "metadata": {},
   "source": [
    "+ Выполните загрузку полного объекта модели из full_model.pth. Переведите его в eval().\n",
    "+ Возьмите несколько случайных изображений из тестового набора и сделайте предсказание загруженной моделью. Сравните результаты с истинными метками.\n",
    "+ Напишите функцию, которая на вход принимает тензор image_tensor размером [1, 28, 28] и возвращает предсказанный класс. Функция должна использовать torch.no_grad().\n",
    "+ Запустите и проверьте predict на первом изображении первого батча."
   ]
  },
  {
   "cell_type": "code",
   "execution_count": 9,
   "id": "7c5fd4f3",
   "metadata": {},
   "outputs": [
    {
     "name": "stdout",
     "output_type": "stream",
     "text": [
      "Реальный класс: 7\n",
      "Предсказанный класс: 3\n"
     ]
    }
   ],
   "source": [
    "\n",
    "\n",
    "import torch\n",
    "import torch.nn as nn\n",
    "import torch.optim as optim\n",
    "from torch.utils.data import DataLoader\n",
    "from torchvision import datasets, transforms\n",
    "import matplotlib.pyplot as plt\n",
    "\n",
    "\n",
    "# Подготовка данных MNIST\n",
    "\n",
    "transform = transforms.Compose([transforms.ToTensor(), transforms.Normalize((0.1307,), (0.3081,))])\n",
    "train_dataset = datasets.MNIST(root='./data', train=True, download=False, transform=transform)\n",
    "val_dataset   = datasets.MNIST(root='./data', train=False, download=False, transform=transform)\n",
    "train_loader  = DataLoader(train_dataset, batch_size=64, shuffle=True)\n",
    "val_loader    = DataLoader(val_dataset, batch_size=1000, shuffle=False)\n",
    "\n",
    "\n",
    "# Загрузка модели \n",
    "load_model = torch.load('./model/full_model.pth', weights_only=False)\n",
    "\n",
    "\n",
    "# Перевод модели в режим инференса\n",
    "load_model.eval()\n",
    "\n",
    "\n",
    "def predict(image_tensor: torch.Tensor) -> int:\n",
    "    if image_tensor.ndim == 3:\n",
    "        image_tensor = image_tensor.unsqueeze(0)\n",
    "    with torch.no_grad():\n",
    "        outputs = load_model(image_tensor)\n",
    "        pred = outputs.argmax(dim=1).item()\n",
    "    return pred\n",
    "\n",
    "\n",
    "# Берём один батч из валидации\n",
    "images, labels = next(iter(val_loader))\n",
    "\n",
    "\n",
    "# Выбираем первый образец из батча\n",
    "sample_img   = images[0]   # форма [1,28,28]\n",
    "sample_label = labels[0].item()\n",
    "\n",
    "\n",
    "print(\"Реальный класс:\", sample_label)\n",
    "print(\"Предсказанный класс:\", predict(sample_img))"
   ]
  },
  {
   "cell_type": "markdown",
   "id": "8e755e2c",
   "metadata": {},
   "source": [
    "# Практика. Обучение MLP: функция потерь, цикл обучения"
   ]
  },
  {
   "cell_type": "markdown",
   "id": "ae731a3d",
   "metadata": {},
   "source": [
    "Инициализируем модель и загружаем данные "
   ]
  },
  {
   "cell_type": "code",
   "execution_count": null,
   "id": "5a6de6b3",
   "metadata": {},
   "outputs": [
    {
     "data": {
      "text/plain": [
       "(<torch.utils.data.dataloader.DataLoader at 0x186f49d33b0>,\n",
       " <torch.utils.data.dataloader.DataLoader at 0x186f4a7f530>)"
      ]
     },
     "execution_count": 10,
     "metadata": {},
     "output_type": "execute_result"
    }
   ],
   "source": [
    "# Инициализируем модель\n",
    "model = AdvancedMNISTMLPList()\n",
    "\n",
    "\n",
    "# Загружаем данные MNIST (тренировочный и тестовый набор)\n",
    "transform = transforms.Compose([transforms.ToTensor()])\n",
    "train_dataset = datasets.MNIST(root='./data', train=True, download=False, transform=transform)\n",
    "test_dataset  = datasets.MNIST(root='./data', train=False, download=False, transform=transform)\n",
    "\n",
    "\n",
    "train_loader = DataLoader(train_dataset, batch_size=64, shuffle=True)\n",
    "test_loader  = DataLoader(test_dataset,  batch_size=1000, shuffle=False)\n",
    "\n",
    "train_loader, test_loader"
   ]
  },
  {
   "cell_type": "markdown",
   "id": "42fc33b7",
   "metadata": {},
   "source": [
    "Настраиваем модель"
   ]
  },
  {
   "cell_type": "code",
   "execution_count": 11,
   "id": "bc1c830c",
   "metadata": {},
   "outputs": [],
   "source": [
    "# Инициализируем функцию потерь и оптимизатор\n",
    "criterion = nn.CrossEntropyLoss()\n",
    "optimizer = optim.Adam(model.parameters(), lr=0.001)"
   ]
  },
  {
   "cell_type": "markdown",
   "id": "796127c5",
   "metadata": {},
   "source": [
    "Настраиваем подключение к ClearML"
   ]
  },
  {
   "cell_type": "code",
   "execution_count": 14,
   "id": "d1cbc64d",
   "metadata": {},
   "outputs": [],
   "source": [
    "import os\n",
    "from dotenv import load_dotenv\n",
    "from clearml import Task\n",
    "from clearml import Dataset\n",
    "\n",
    "# Загрузка переменных окружения из файла .env\n",
    "load_dotenv()\n",
    "\n",
    "Task.set_credentials(\n",
    "    api_host=os.getenv('CLEARML_API_HOST'),\n",
    "    web_host=os.getenv('CLEARML_WEB_HOST'),\n",
    "    files_host=os.getenv('CLEARML_FILES_HOST'),\n",
    "    key=os.getenv('CLEARML_API_ACCESS_KEY'),\n",
    "    secret=os.getenv('CLEARML_API_SECRET_KEY')\n",
    ")"
   ]
  },
  {
   "cell_type": "code",
   "execution_count": 15,
   "id": "3120dd2b",
   "metadata": {},
   "outputs": [
    {
     "name": "stdout",
     "output_type": "stream",
     "text": [
      "ClearML Task: created new task id=30eb45f0e09e4804814de1e6aec09664\n",
      "ClearML results page: https://app.clear.ml/projects/2dc955db01d24082b4d83b5802578449/experiments/30eb45f0e09e4804814de1e6aec09664/output/log\n"
     ]
    },
    {
     "data": {
      "text/plain": [
       "<clearml.task.Task at 0x18684a31eb0>"
      ]
     },
     "execution_count": 15,
     "metadata": {},
     "output_type": "execute_result"
    },
    {
     "name": "stdout",
     "output_type": "stream",
     "text": [
      "ClearML Monitor: GPU monitoring failed getting GPU reading, switching off GPU monitoring\n"
     ]
    }
   ],
   "source": [
    "# Инициализируем задачу (Task) в ClearML\n",
    "task = Task.init(project_name=\"SimpleNN Project\", task_name=\"Experiment #1\")\n",
    "task"
   ]
  },
  {
   "cell_type": "markdown",
   "id": "da23b6b0",
   "metadata": {},
   "source": [
    "Реализуем основной цикл обучения"
   ]
  },
  {
   "cell_type": "code",
   "execution_count": 16,
   "id": "28e0c69b",
   "metadata": {},
   "outputs": [
    {
     "name": "stdout",
     "output_type": "stream",
     "text": [
      "Epoch 1/10 — Loss: 0.1837, Accuracy: 94.41%\n",
      "Epoch 2/10 — Loss: 0.1524, Accuracy: 95.30%\n",
      "Epoch 3/10 — Loss: 0.1330, Accuracy: 95.78%\n",
      "Epoch 4/10 — Loss: 0.1174, Accuracy: 96.31%\n",
      "Epoch 5/10 — Loss: 0.1082, Accuracy: 96.52%\n",
      "Epoch 6/10 — Loss: 0.0982, Accuracy: 96.92%\n",
      "Epoch 7/10 — Loss: 0.0934, Accuracy: 97.10%\n",
      "Epoch 8/10 — Loss: 0.0866, Accuracy: 97.24%\n",
      "Epoch 9/10 — Loss: 0.0829, Accuracy: 97.31%\n",
      "Epoch 10/10 — Loss: 0.0755, Accuracy: 97.51%\n"
     ]
    }
   ],
   "source": [
    "from clearml import Logger  # Для логирования метрик\n",
    "\n",
    "\n",
    "# Цикл обучения\n",
    "num_epochs = 10\n",
    "\n",
    "train_losses = []\n",
    "train_accuracies = []\n",
    "\n",
    "\n",
    "for epoch in range(num_epochs):\n",
    "    model.train()  # перевод модели в режим обучения\n",
    "    running_loss = 0.0\n",
    "    correct = 0\n",
    "    total = 0\n",
    "    \n",
    "    # Проход по всем батчам трен.набора\n",
    "    for images, labels in train_loader:\n",
    "\n",
    "\n",
    "        # Прямой проход\n",
    "        outputs = model(images)             # выходы - логиты [batch, 10]\n",
    "        loss = criterion(outputs, labels)   # вычисляем потерю\n",
    "\n",
    "\n",
    "        # Обратный проход и оптимизация\n",
    "        optimizer.zero_grad()\n",
    "        loss.backward()\n",
    "        optimizer.step()\n",
    "\n",
    "\n",
    "        # Накопление статистики для метрик\n",
    "        running_loss += loss.item()         # суммируем loss\n",
    "        _, predicted = outputs.max(1)       # индекс максимальной логиты = предсказанный класс\n",
    "        total += labels.size(0)\n",
    "        correct += predicted.eq(labels).sum().item()\n",
    "\n",
    "\n",
    "    # Средние значения по эпохе\n",
    "    epoch_loss = running_loss / len(train_loader)\n",
    "    epoch_acc = 100.0 * correct / total\n",
    "    train_losses.append(epoch_loss)\n",
    "    train_accuracies.append(epoch_acc)\n",
    "\n",
    "\n",
    "    # Выводим информацию по эпохе\n",
    "    print(f'Epoch {epoch+1}/{num_epochs} — Loss: {epoch_loss:.4f}, Accuracy: {epoch_acc:.2f}%')\n",
    "    \n",
    "    # Отправляем метрики в ClearML\n",
    "    Logger.current_logger().report_scalar(\"train\", \"loss\", iteration=epoch, value=epoch_loss)\n",
    "    Logger.current_logger().report_scalar(\"train\", \"accuracy\", iteration=epoch, value=epoch_acc)"
   ]
  },
  {
   "cell_type": "markdown",
   "id": "5613e376",
   "metadata": {},
   "source": [
    "Оценка модели"
   ]
  },
  {
   "cell_type": "code",
   "execution_count": 17,
   "id": "71886fca",
   "metadata": {},
   "outputs": [
    {
     "name": "stdout",
     "output_type": "stream",
     "text": [
      "Test Loss: 0.0588, Test Accuracy: 98.05%\n"
     ]
    }
   ],
   "source": [
    "# Оценка на тестовом наборе и матрица ошибок\n",
    "model.eval()  # режим оценки\n",
    "test_loss = 0.0\n",
    "\n",
    "correct = 0\n",
    "\n",
    "total = 0\n",
    "\n",
    "all_preds = []\n",
    "all_labels = []\n",
    "\n",
    "\n",
    "with torch.no_grad():\n",
    "    for images, labels in test_loader:\n",
    "\n",
    "\n",
    "        outputs = model(images)\n",
    "        loss = criterion(outputs, labels)\n",
    "        test_loss += loss.item()\n",
    "        \n",
    "        _, predicted = outputs.max(1)\n",
    "        total += labels.size(0)\n",
    "        correct += predicted.eq(labels).sum().item()\n",
    "        \n",
    "        all_preds.extend(predicted.cpu().numpy())\n",
    "        all_labels.extend(labels.cpu().numpy())\n",
    "\n",
    "\n",
    "test_loss = test_loss / len(test_loader)\n",
    "test_accuracy = 100.0 * correct / total\n",
    "\n",
    "print(f'Test Loss: {test_loss:.4f}, Test Accuracy: {test_accuracy:.2f}%')"
   ]
  },
  {
   "cell_type": "markdown",
   "id": "1067ad3d",
   "metadata": {},
   "source": [
    "Строим графики"
   ]
  },
  {
   "cell_type": "code",
   "execution_count": 18,
   "id": "02b01f1b",
   "metadata": {},
   "outputs": [
    {
     "data": {
      "image/png": "[encoded data removed]",
      "text/plain": [
       "<Figure size 1200x500 with 2 Axes>"
      ]
     },
     "metadata": {},
     "output_type": "display_data"
    }
   ],
   "source": [
    "# Построение графиков потерь и точности\n",
    "import matplotlib.pyplot as plt\n",
    "\n",
    "\n",
    "epochs = range(1, num_epochs+1)\n",
    "plt.figure(figsize=(12,5))\n",
    "\n",
    "\n",
    "plt.subplot(1, 2, 1)\n",
    "plt.plot(epochs, train_losses, marker='o', color='blue', label='Train Loss')\n",
    "plt.title('Loss vs Epochs')\n",
    "plt.xlabel('Эпоха')\n",
    "plt.ylabel('Потеря')\n",
    "plt.legend()\n",
    "\n",
    "\n",
    "plt.subplot(1, 2, 2)\n",
    "plt.plot(epochs, train_accuracies, marker='o', color='green', label='Train Accuracy')\n",
    "plt.title('Accuracy vs Epochs')\n",
    "plt.xlabel('Эпоха')\n",
    "plt.ylabel('Точность (%)')\n",
    "plt.legend()\n",
    "\n",
    "\n",
    "plt.tight_layout()\n",
    "plt.show()"
   ]
  },
  {
   "cell_type": "markdown",
   "id": "9aad11f3",
   "metadata": {},
   "source": [
    "## Задание"
   ]
  },
  {
   "cell_type": "markdown",
   "id": "89574759",
   "metadata": {},
   "source": [
    "**Формат задания**\n",
    "\n",
    "Выполните задание локально на своём устройстве: скопируйте код ниже, реализуйте шаги и проанализируйте результаты. \n",
    "\n",
    "Проверить задание вы сможете самостоятельно. В конце выполнения нажмите кнопку «Готово» и увидите авторское решение — с ним вы можете сверить свой вариант. \n",
    "\n",
    "**Что нужно сделать**\n",
    "\n",
    "Реализуйте и протестируйте свой собственный цикл обучения. Выполните такие шаги:\n",
    "\n",
    "1. Импортируйте библиотеки: torch, torchvision, matplotlib, clearml — и нужные модули.\n",
    "1. Реализуйте модель AdvancedMNISTMLPList, определённую в предыдущем уроке.\n",
    "1. Подготовьте данные: используйте torchvision.datasets.MNIST с DataLoader для обучающего и тестового наборов.\n",
    "1. Определите функцию потерь и оптимизатор: criterion = nn.CrossEntropyLoss(), optimizer = optim.Adam(...). Задайте подходящую скорость обучения (например, lr=0.001).\n",
    "1. Настройте подключение ClearML: вызовите Task.set_credentials(...) со своими данными, затем Task.init(project_name, task_name).\n",
    "1. Реализуйте цикл обучения в 5 эпох:\n",
    "+ Для каждой эпохи сбрасывайте метрику и собирайте новые значения loss и точности.\n",
    "+ Внутри цикла для каждого батча проводите прямой и обратный проход, обновление оптимизатором.\n",
    "+ После каждой эпохи вычисляйте среднюю потерю и точность на обучающем наборе.\n",
    "+ Выводите результат в консоль и отправляйте в ClearML (с помощью Logger.current_logger().report_scalar).\n",
    "7. Оцените модель на тестовом наборе после завершения обучения: вычислите test_loss и test_accuracy.\n",
    "8. Постройте графики потерь и точности по эпохам с помощью matplotlib. Сохраните или отобразите их. Убедитесь, что после обучения сохраняете значения epoch_loss и epoch_acc в списки для отрисовки графиков."
   ]
  },
  {
   "cell_type": "code",
   "execution_count": 7,
   "id": "4bb2044c",
   "metadata": {},
   "outputs": [],
   "source": [
    "import os\n",
    "from dotenv import load_dotenv\n",
    "\n",
    "import torch\n",
    "import torch.nn as nn\n",
    "import torch.optim as optim\n",
    "from torch.utils.data import DataLoader\n",
    "from torchvision import datasets, transforms\n",
    "import matplotlib.pyplot as plt\n",
    "from clearml import Task, Logger"
   ]
  },
  {
   "cell_type": "code",
   "execution_count": 2,
   "id": "185de806",
   "metadata": {},
   "outputs": [],
   "source": [
    "# Определяем модель AdvancedMNISTMLPList (с прошлого урока)\n",
    "class AdvancedMNISTMLPList(nn.Module):\n",
    "    def __init__(self):\n",
    "        super(AdvancedMNISTMLPList, self).__init__()\n",
    "        self.layers = nn.ModuleList([\n",
    "            nn.Linear(28*28, 128),\n",
    "            nn.ReLU(),\n",
    "            nn.Linear(128, 64),\n",
    "            nn.ReLU(),\n",
    "            nn.Linear(64, 10)\n",
    "        ])\n",
    "    \n",
    "    def forward(self, x):\n",
    "        x = x.view(-1, 28*28)  # раскладываем картинку в вектор\n",
    "        for layer in self.layers:\n",
    "            x = layer(x)\n",
    "        return x"
   ]
  },
  {
   "cell_type": "code",
   "execution_count": 3,
   "id": "db5a0efe",
   "metadata": {},
   "outputs": [
    {
     "data": {
      "text/plain": [
       "AdvancedMNISTMLPList(\n",
       "  (layers): ModuleList(\n",
       "    (0): Linear(in_features=784, out_features=128, bias=True)\n",
       "    (1): ReLU()\n",
       "    (2): Linear(in_features=128, out_features=64, bias=True)\n",
       "    (3): ReLU()\n",
       "    (4): Linear(in_features=64, out_features=10, bias=True)\n",
       "  )\n",
       ")"
      ]
     },
     "execution_count": 3,
     "metadata": {},
     "output_type": "execute_result"
    }
   ],
   "source": [
    "# Инициализируем модель\n",
    "model = AdvancedMNISTMLPList()\n",
    "model"
   ]
  },
  {
   "cell_type": "code",
   "execution_count": null,
   "id": "40e6e2a7",
   "metadata": {},
   "outputs": [
    {
     "data": {
      "text/plain": [
       "(Dataset MNIST\n",
       "     Number of datapoints: 60000\n",
       "     Root location: ./data\n",
       "     Split: Train\n",
       "     StandardTransform\n",
       " Transform: Compose(\n",
       "                ToTensor()\n",
       "            ),\n",
       " Dataset MNIST\n",
       "     Number of datapoints: 10000\n",
       "     Root location: ./data\n",
       "     Split: Test\n",
       "     StandardTransform\n",
       " Transform: Compose(\n",
       "                ToTensor()\n",
       "            ))"
      ]
     },
     "execution_count": 4,
     "metadata": {},
     "output_type": "execute_result"
    }
   ],
   "source": [
    "# Загружаем данные MNIST (тренировочный и тестовый набор)\n",
    "transform = transforms.Compose([transforms.ToTensor()])\n",
    "\n",
    "train_dataset = datasets.MNIST(root='./data', train=True, download=True, transform=transform)\n",
    "test_dataset  = datasets.MNIST(root='./data', train=False, download=True, transform=transform)\n",
    "\n",
    "train_dataset, test_dataset"
   ]
  },
  {
   "cell_type": "code",
   "execution_count": 5,
   "id": "dc72faa8",
   "metadata": {},
   "outputs": [
    {
     "data": {
      "text/plain": [
       "(<torch.utils.data.dataloader.DataLoader at 0x15c02c01010>,\n",
       " <torch.utils.data.dataloader.DataLoader at 0x15c301d5b50>)"
      ]
     },
     "execution_count": 5,
     "metadata": {},
     "output_type": "execute_result"
    }
   ],
   "source": [
    "train_loader = DataLoader(train_dataset, batch_size=64, shuffle=True)\n",
    "test_loader  = DataLoader(test_dataset,  batch_size=1000, shuffle=False)\n",
    "\n",
    "train_loader, test_loader"
   ]
  },
  {
   "cell_type": "code",
   "execution_count": 6,
   "id": "e32aa4c8",
   "metadata": {},
   "outputs": [],
   "source": [
    "# Инициализируем функцию потерь и оптимизатор\n",
    "criterion = nn.CrossEntropyLoss()\n",
    "optimizer = optim.Adam(model.parameters(), lr=0.001)"
   ]
  },
  {
   "cell_type": "code",
   "execution_count": 8,
   "id": "bdffc6c8",
   "metadata": {},
   "outputs": [
    {
     "name": "stdout",
     "output_type": "stream",
     "text": [
      "ClearML Task: created new task id=1ea08e9abb754f1ab9395d55a19418f7\n",
      "ClearML results page: https://app.clear.ml/projects/318080aa40ee4ef8b4f24822fc250735/experiments/1ea08e9abb754f1ab9395d55a19418f7/output/log\n"
     ]
    },
    {
     "data": {
      "text/plain": [
       "<clearml.task.Task at 0x15c308affb0>"
      ]
     },
     "execution_count": 8,
     "metadata": {},
     "output_type": "execute_result"
    },
    {
     "name": "stdout",
     "output_type": "stream",
     "text": [
      "ClearML Monitor: GPU monitoring failed getting GPU reading, switching off GPU monitoring\n"
     ]
    }
   ],
   "source": [
    "# Подключение к ClearML\n",
    "load_dotenv()\n",
    "\n",
    "Task.set_credentials(\n",
    "    api_host=os.getenv('CLEARML_API_HOST'),\n",
    "    web_host=os.getenv('CLEARML_WEB_HOST'),\n",
    "    files_host=os.getenv('CLEARML_FILES_HOST'),\n",
    "    key=os.getenv('CLEARML_API_ACCESS_KEY'),\n",
    "    secret=os.getenv('CLEARML_API_SECRET_KEY')\n",
    ")\n",
    "task = Task.init(project_name='MNIST_Project', task_name='MLP_Train')\n",
    "task"
   ]
  },
  {
   "cell_type": "code",
   "execution_count": 9,
   "id": "0ece586a",
   "metadata": {},
   "outputs": [
    {
     "name": "stdout",
     "output_type": "stream",
     "text": [
      "Epoch 1/5 — Loss: 0.3289, Accuracy: 90.78%\n",
      "Epoch 2/5 — Loss: 0.1352, Accuracy: 96.02%\n",
      "Epoch 3/5 — Loss: 0.0942, Accuracy: 97.10%\n",
      "Epoch 4/5 — Loss: 0.0705, Accuracy: 97.86%\n",
      "Epoch 5/5 — Loss: 0.0571, Accuracy: 98.23%\n"
     ]
    }
   ],
   "source": [
    "# Цикл обучения\n",
    "num_epochs = 5\n",
    "train_losses = []\n",
    "train_accuracies = []\n",
    "\n",
    "for epoch in range(num_epochs):\n",
    "    model.train()  # перевод модели в режим обучения\n",
    "    running_loss = 0.0\n",
    "    correct = 0\n",
    "    total = 0\n",
    "\n",
    "    # Проход по всем батчам трен.набора\n",
    "    for images, labels in train_loader:\n",
    "        # Прямой проход\n",
    "        outputs = model(images)  # выходы - логиты [batch, 10]\n",
    "        loss = criterion(outputs, labels)  # вычисляем потерю\n",
    "\n",
    "        # Обратный проход и оптимизация\n",
    "        optimizer.zero_grad()\n",
    "        loss.backward()\n",
    "        optimizer.step()\n",
    "\n",
    "        # Накопление статистики для метрик\n",
    "        running_loss += loss.item()  # суммируем loss\n",
    "        _, predicted = outputs.max(1)  # индекс максимальной логиты = предсказанный класс\n",
    "        total += labels.size(0)\n",
    "        correct += predicted.eq(labels).sum().item()\n",
    "\n",
    "    # Средние значения по эпохе\n",
    "    epoch_loss = running_loss / len(train_loader)\n",
    "    epoch_acc = 100.0 * correct / total\n",
    "    train_losses.append(epoch_loss)\n",
    "    train_accuracies.append(epoch_acc)\n",
    "\n",
    "    # Выводим информацию по эпохе\n",
    "    print(f'Epoch {epoch+1}/{num_epochs} — Loss: {epoch_loss:.4f}, Accuracy: {epoch_acc:.2f}%')\n",
    "    \n",
    "    # Отправляем метрики в ClearML\n",
    "    Logger.current_logger().report_scalar(\"train\", \"loss\", iteration=epoch, value=epoch_loss)\n",
    "    Logger.current_logger().report_scalar(\"train\", \"accuracy\", iteration=epoch, value=epoch_acc)"
   ]
  },
  {
   "cell_type": "code",
   "execution_count": 10,
   "id": "d190ed81",
   "metadata": {},
   "outputs": [
    {
     "name": "stdout",
     "output_type": "stream",
     "text": [
      "Test Loss: 0.0742, Test Accuracy: 97.72%\n"
     ]
    }
   ],
   "source": [
    "# Оценка на тестовом наборе\n",
    "model.eval()  # режим оценки\n",
    "test_loss = 0.0\n",
    "correct = 0\n",
    "total = 0\n",
    "all_preds = []\n",
    "all_labels = []\n",
    "\n",
    "with torch.no_grad():\n",
    "    for images, labels in test_loader:\n",
    "        outputs = model(images)\n",
    "        loss = criterion(outputs, labels)\n",
    "        test_loss += loss.item()\n",
    "        \n",
    "        _, predicted = outputs.max(1)\n",
    "        total += labels.size(0)\n",
    "        correct += predicted.eq(labels).sum().item()\n",
    "        \n",
    "        all_preds.extend(predicted.cpu().numpy())\n",
    "        all_labels.extend(labels.cpu().numpy())\n",
    "\n",
    "test_loss = test_loss / len(test_loader)\n",
    "test_accuracy = 100.0 * correct / total\n",
    "\n",
    "print(f'Test Loss: {test_loss:.4f}, Test Accuracy: {test_accuracy:.2f}%')"
   ]
  },
  {
   "cell_type": "code",
   "execution_count": 11,
   "id": "25e7fe42",
   "metadata": {},
   "outputs": [
    {
     "data": {
      "image/png": "[encoded data removed]",
      "text/plain": [
       "<Figure size 1200x500 with 2 Axes>"
      ]
     },
     "metadata": {},
     "output_type": "display_data"
    }
   ],
   "source": [
    "# Построение графиков потерь и точности\n",
    "epochs = range(1, num_epochs + 1)\n",
    "plt.figure(figsize=(12, 5))\n",
    "\n",
    "plt.subplot(1, 2, 1)\n",
    "plt.plot(epochs, train_losses, marker='o', color='blue', label='Train Loss')\n",
    "plt.title('Loss vs Epochs')\n",
    "plt.xlabel('Эпоха')\n",
    "plt.ylabel('Потеря')\n",
    "plt.legend()\n",
    "\n",
    "plt.subplot(1, 2, 2)\n",
    "plt.plot(epochs, train_accuracies, marker='o', color='green', label='Train Accuracy')\n",
    "plt.title('Accuracy vs Epochs')\n",
    "plt.xlabel('Эпоха')\n",
    "plt.ylabel('Точность (%)')\n",
    "plt.legend()\n",
    "\n",
    "plt.tight_layout()\n",
    "plt.show()"
   ]
  },
  {
   "cell_type": "markdown",
   "id": "f6f5f460",
   "metadata": {},
   "source": [
    "# Подбор архитектуры: эксперименты с количеством слоёв и нейронов"
   ]
  },
  {
   "cell_type": "markdown",
   "id": "a556265c",
   "metadata": {},
   "source": [
    "Практическая часть: эксперименты с архитектурой"
   ]
  },
  {
   "cell_type": "code",
   "execution_count": 6,
   "id": "2378cc29",
   "metadata": {},
   "outputs": [],
   "source": [
    "import os\n",
    "from dotenv import load_dotenv\n",
    "\n",
    "import torch\n",
    "import torch.nn as nn\n",
    "import torch.optim as optim\n",
    "from torch.utils.data import DataLoader\n",
    "from torchvision import datasets, transforms\n",
    "import matplotlib.pyplot as plt\n",
    "from clearml import Task, Logger"
   ]
  },
  {
   "cell_type": "code",
   "execution_count": 11,
   "id": "1e410af1",
   "metadata": {},
   "outputs": [
    {
     "data": {
      "text/plain": [
       "(Dataset MNIST\n",
       "     Number of datapoints: 60000\n",
       "     Root location: ./data\n",
       "     Split: Train\n",
       "     StandardTransform\n",
       " Transform: Compose(\n",
       "                ToTensor()\n",
       "            ),\n",
       " Dataset MNIST\n",
       "     Number of datapoints: 10000\n",
       "     Root location: ./data\n",
       "     Split: Test\n",
       "     StandardTransform\n",
       " Transform: Compose(\n",
       "                ToTensor()\n",
       "            ))"
      ]
     },
     "execution_count": 11,
     "metadata": {},
     "output_type": "execute_result"
    }
   ],
   "source": [
    "# Загружаем данные MNIST (тренировочный и тестовый набор)\n",
    "transform = transforms.Compose([transforms.ToTensor()])\n",
    "\n",
    "train_dataset = datasets.MNIST(root='./data', train=True, download=True, transform=transform)\n",
    "test_dataset  = datasets.MNIST(root='./data', train=False, download=True, transform=transform)\n",
    "\n",
    "train_dataset, test_dataset"
   ]
  },
  {
   "cell_type": "code",
   "execution_count": 12,
   "id": "1fd1624a",
   "metadata": {},
   "outputs": [
    {
     "data": {
      "text/plain": [
       "(<torch.utils.data.dataloader.DataLoader at 0x1d20c4bd370>,\n",
       " <torch.utils.data.dataloader.DataLoader at 0x1d20c4bcb00>)"
      ]
     },
     "execution_count": 12,
     "metadata": {},
     "output_type": "execute_result"
    }
   ],
   "source": [
    "train_loader = DataLoader(train_dataset, batch_size=64, shuffle=True)\n",
    "val_loader  = DataLoader(test_dataset,  batch_size=1000, shuffle=False)\n",
    "\n",
    "train_loader, val_loader"
   ]
  },
  {
   "cell_type": "markdown",
   "id": "a937c110",
   "metadata": {},
   "source": [
    "Чтобы сравнить несколько моделей, мы поочередно запустим обучение для каждой из них и будем записывать метрики с графиками. \n",
    "\n",
    "Простейший вариант — поочерёдно обучать каждую архитектуру в одинаковых условиях: одно и то же число эпох, функция потерь, оптимизатор и т.д. Для этого задаём архитектуру в виде Sequential-моделей:"
   ]
  },
  {
   "cell_type": "code",
   "execution_count": 13,
   "id": "0fb1d214",
   "metadata": {},
   "outputs": [
    {
     "data": {
      "text/plain": [
       "Sequential(\n",
       "  (0): Flatten(start_dim=1, end_dim=-1)\n",
       "  (1): Linear(in_features=784, out_features=32, bias=True)\n",
       "  (2): ReLU()\n",
       "  (3): Linear(in_features=32, out_features=10, bias=True)\n",
       ")"
      ]
     },
     "execution_count": 13,
     "metadata": {},
     "output_type": "execute_result"
    }
   ],
   "source": [
    "# Название модели для отображения графиков и логгирования\n",
    "name = 'MLP_1layer'\n",
    "# Последовательность самой модели\n",
    "model = nn.Sequential(\n",
    "            nn.Flatten(),\n",
    "            nn.Linear(784, 32),\n",
    "            nn.ReLU(),\n",
    "            nn.Linear(32, 10)\n",
    "            )\n",
    "\n",
    "model"
   ]
  },
  {
   "cell_type": "markdown",
   "id": "eec0d49f",
   "metadata": {},
   "source": [
    "Запускаем цикл обучения. В этот раз мы будем отслеживать метрики на каждой эпохе обучения и сохранять данные в словарь hist для графиков, для лучшего сравнения:"
   ]
  },
  {
   "cell_type": "code",
   "execution_count": 14,
   "id": "8b9cfd46",
   "metadata": {},
   "outputs": [
    {
     "name": "stdout",
     "output_type": "stream",
     "text": [
      "MLP_1layer Epoch 1/5 - Train Loss: 0.4603, Val Loss: 0.2557, Val Acc: 92.76%\n",
      "MLP_1layer Epoch 2/5 - Train Loss: 0.2390, Val Loss: 0.2146, Val Acc: 93.80%\n",
      "MLP_1layer Epoch 3/5 - Train Loss: 0.1962, Val Loss: 0.1761, Val Acc: 94.69%\n",
      "MLP_1layer Epoch 4/5 - Train Loss: 0.1683, Val Loss: 0.1551, Val Acc: 95.30%\n",
      "MLP_1layer Epoch 5/5 - Train Loss: 0.1472, Val Loss: 0.1410, Val Acc: 95.92%\n"
     ]
    }
   ],
   "source": [
    "\n",
    "num_epochs = 5\n",
    "hist = {name: {'train_loss': [], 'val_loss': [], 'val_acc': []} }\n",
    "criterion = nn.CrossEntropyLoss()\n",
    "\n",
    "# Запускаем новый эксперимент в ClearML\n",
    "task = Task.init(project_name='NeuralNetworkCourse',\n",
    "                 task_name=name,\n",
    "                 reuse_last_task_id=False)\n",
    "logger = Logger.current_logger()\n",
    "optimizer = optim.Adam(model.parameters(), lr=0.001)\n",
    "\n",
    "for epoch in range(1, num_epochs + 1):\n",
    "    # Обучение\n",
    "    model.train()\n",
    "    running_loss = 0.0\n",
    "    for images, labels in train_loader:\n",
    "        optimizer.zero_grad()\n",
    "        outputs = model(images)\n",
    "        loss = criterion(outputs, labels)\n",
    "        loss.backward()\n",
    "        optimizer.step()\n",
    "        running_loss += loss.item()\n",
    "    epoch_train_loss = running_loss / len(train_loader)\n",
    "    # Добавляем потерю для графика\n",
    "    hist[name]['train_loss'].append(epoch_train_loss)\n",
    "\n",
    "\n",
    "    # Валидация\n",
    "    model.eval()\n",
    "    val_loss = 0.0\n",
    "    correct = 0\n",
    "    total = 0\n",
    "    with torch.no_grad():\n",
    "        for images, labels in val_loader:\n",
    "            outputs = model(images)\n",
    "            loss = criterion(outputs, labels)\n",
    "            val_loss += loss.item()\n",
    "            preds = outputs.argmax(dim=1)\n",
    "            correct += (preds == labels).sum().item()\n",
    "            total += labels.size(0)\n",
    "\n",
    "\n",
    "    # В этот раз посчитаем валидацию на каждой эпохе обучения\n",
    "    epoch_val_loss = val_loss / len(val_loader)\n",
    "    epoch_val_acc  = 100.0 * correct / total\n",
    "    # Добавляем потерю для графика\n",
    "    hist[name]['val_loss'].append(epoch_val_loss)\n",
    "    # Добавляем точность для графика\n",
    "    hist[name]['val_acc'].append(epoch_val_acc)\n",
    "\n",
    "\n",
    "    # Логирование в ClearML \n",
    "    logger.report_scalar(\"Loss\", \"Train\", epoch_train_loss, epoch)\n",
    "    logger.report_scalar(\"Loss\", \"Validation\", epoch_val_loss, epoch)\n",
    "    logger.report_scalar(\"Accuracy\", \"Validation\", epoch_val_acc, epoch)\n",
    "\n",
    "\n",
    "    print(f\"{name} Epoch {epoch}/{num_epochs} - \"\n",
    "            f\"Train Loss: {epoch_train_loss:.4f}, \"\n",
    "            f\"Val Loss: {epoch_val_loss:.4f}, \"\n",
    "            f\"Val Acc: {epoch_val_acc:.2f}%\")\n",
    "\n",
    "\n",
    "task.close()"
   ]
  },
  {
   "cell_type": "markdown",
   "id": "4074e41b",
   "metadata": {},
   "source": [
    "После запуска этого кода у вас будут в словаре hist списки значений метрик по эпохам. Постройте графики:"
   ]
  },
  {
   "cell_type": "code",
   "execution_count": 15,
   "id": "80e56b6d",
   "metadata": {},
   "outputs": [
    {
     "data": {
      "image/png": "[encoded data removed]",
      "text/plain": [
       "<Figure size 1200x600 with 2 Axes>"
      ]
     },
     "metadata": {},
     "output_type": "display_data"
    }
   ],
   "source": [
    "# Визуализация истории обучения (пример для loss)\n",
    "plt.figure(figsize=(12, 6))\n",
    "\n",
    "\n",
    "# Потеря\n",
    "plt.subplot(1, 2, 1)\n",
    "epochs = range(1, num_epochs + 1)\n",
    "plt.plot(epochs, hist[name]['val_loss'],   marker='x', label=f\"{name} Val Loss\")\n",
    "plt.plot(epochs, hist[name]['train_loss'], marker='o', label=f\"{name} Train Loss\",)\n",
    "plt.title(\"Сравнение кривых потерь\")\n",
    "plt.xlabel(\"Эпоха\")\n",
    "plt.ylabel(\"Loss\")\n",
    "plt.legend()\n",
    "plt.grid(True)\n",
    "\n",
    "\n",
    "# Точность\n",
    "plt.subplot(1, 2, 2)\n",
    "\n",
    "\n",
    "epochs = range(1, num_epochs + 1)\n",
    "plt.plot(epochs, hist[name]['val_acc'], marker='o', label=f\"{name} Val Acc\")\n",
    "plt.title(\"Сравнение точности на валидации\")\n",
    "plt.xlabel(\"Эпоха\")\n",
    "plt.ylabel(\"Accuracy (%)\")\n",
    "plt.legend()\n",
    "plt.grid(True)\n",
    "\n",
    "\n",
    "plt.tight_layout()\n",
    "plt.show()"
   ]
  },
  {
   "cell_type": "markdown",
   "id": "b9cb476a",
   "metadata": {},
   "source": [
    "## Задание 1"
   ]
  },
  {
   "cell_type": "markdown",
   "id": "b80c85c7",
   "metadata": {},
   "source": [
    "Выполните задание локально на своём устройстве: скопируйте код ниже, реализуйте шаги и проанализируйте результаты. \n",
    "\n",
    "Проверить задание вы сможете самостоятельно. В конце выполнения нажмите кнопку «Готово» и увидите авторское решение — с ним вы можете сверить свой вариант. \n",
    "\n",
    "**Что нужно сделать**\n",
    "\n",
    "Реализуйте полносвязную сеть с архитектурой 784→16→10 с помощью nn.Sequential, а затем допишите цикл обучения и валидации. Сохранение метрик и визуализация уже реализованы в коде.\n",
    "\n",
    "Ниже приведён скелет кода, в котором нужно:\n",
    "\n",
    "1. Определить модель через nn.Sequential с архитектурой 784→16→10.\n",
    "1. Реализовать цикл обучения (5 эпох): прямой и обратный проходы, накопление running_loss.\n",
    "1. Реализовать цикл валидации"
   ]
  },
  {
   "cell_type": "code",
   "execution_count": null,
   "id": "825e3cae",
   "metadata": {},
   "outputs": [],
   "source": [
    "import os\n",
    "from dotenv import load_dotenv\n",
    "from clearml import Task\n",
    "import torch\n",
    "import torch.nn as nn\n",
    "import torch.optim as optim\n",
    "from torch.utils.data import DataLoader\n",
    "from torchvision import datasets, transforms\n",
    "from clearml import Task, Logger\n",
    "import matplotlib.pyplot as plt"
   ]
  },
  {
   "cell_type": "code",
   "execution_count": 4,
   "id": "b50da384",
   "metadata": {},
   "outputs": [
    {
     "data": {
      "text/plain": [
       "(<torch.utils.data.dataloader.DataLoader at 0x210b79314c0>,\n",
       " <torch.utils.data.dataloader.DataLoader at 0x210b7bc7e30>)"
      ]
     },
     "execution_count": 4,
     "metadata": {},
     "output_type": "execute_result"
    }
   ],
   "source": [
    "# Подготовка данных MNIST\n",
    "\n",
    "transform = transforms.Compose([transforms.ToTensor(), transforms.Normalize((0.1307,), (0.3081,))])\n",
    "\n",
    "train_dataset = datasets.MNIST(root='./data', train=True, download=True, transform=transform)\n",
    "val_dataset = datasets.MNIST(root='./data', train=False, download=True, transform=transform)\n",
    "\n",
    "train_loader = DataLoader(train_dataset, batch_size=64, shuffle=True)\n",
    "val_loader = DataLoader(val_dataset,   batch_size=1000, shuffle=False)\n",
    "\n",
    "train_loader, val_loader"
   ]
  },
  {
   "cell_type": "code",
   "execution_count": null,
   "id": "d783bd65",
   "metadata": {},
   "outputs": [
    {
     "name": "stdout",
     "output_type": "stream",
     "text": [
      "ClearML Task: created new task id=5402a00b889244ab8314897c40f83da8\n",
      "ClearML results page: https://app.clear.ml/projects/843470e65ff9451d889b8d782941e128/experiments/5402a00b889244ab8314897c40f83da8/output/log\n"
     ]
    },
    {
     "data": {
      "text/plain": [
       "<clearml.task.Task at 0x210b7c11190>"
      ]
     },
     "execution_count": 5,
     "metadata": {},
     "output_type": "execute_result"
    },
    {
     "name": "stdout",
     "output_type": "stream",
     "text": [
      "ClearML Monitor: GPU monitoring failed getting GPU reading, switching off GPU monitoring\n"
     ]
    }
   ],
   "source": [
    "# Название модели для отображения графиков и логгирования\n",
    "name = 'MLP_1layer'\n",
    "\n",
    "# Загрузка переменных окружения из файла .env\n",
    "load_dotenv()\n",
    "\n",
    "Task.set_credentials(\n",
    "    api_host=os.getenv('CLEARML_API_HOST'),\n",
    "    web_host=os.getenv('CLEARML_WEB_HOST'),\n",
    "    files_host=os.getenv('CLEARML_FILES_HOST'),\n",
    "    key=os.getenv('CLEARML_API_ACCESS_KEY'),\n",
    "    secret=os.getenv('CLEARML_API_SECRET_KEY')\n",
    ")\n",
    "task = Task.init(project_name='NeuralNetworkCourse',\n",
    "                 task_name=name,\n",
    "                 reuse_last_task_id=False)\n",
    "logger = Logger.current_logger()\n",
    "task"
   ]
  },
  {
   "cell_type": "code",
   "execution_count": 7,
   "id": "df25ad67",
   "metadata": {},
   "outputs": [],
   "source": [
    "model =  model = nn.Sequential(\n",
    "        nn.Flatten(),\n",
    "        nn.Linear(784, 16),\n",
    "        nn.ReLU(),\n",
    "        nn.Linear(16, 10)\n",
    "    ) \n",
    "\n",
    "num_epochs = 5\n",
    "hist = {name: {'train_loss': [], 'val_loss': [], 'val_acc': []} }\n",
    "optimizer = optim.Adam(model.parameters(), lr=0.001)\n",
    "criterion = nn.CrossEntropyLoss()"
   ]
  },
  {
   "cell_type": "code",
   "execution_count": 8,
   "id": "55b0667c",
   "metadata": {},
   "outputs": [
    {
     "name": "stdout",
     "output_type": "stream",
     "text": [
      "MLP_1layer Epoch 1/5 - Train Loss: 0.4218, Val Loss: 0.2821, Val Acc: 91.71%\n",
      "MLP_1layer Epoch 2/5 - Train Loss: 0.2631, Val Loss: 0.2343, Val Acc: 93.09%\n",
      "MLP_1layer Epoch 3/5 - Train Loss: 0.2266, Val Loss: 0.2148, Val Acc: 93.85%\n",
      "MLP_1layer Epoch 4/5 - Train Loss: 0.2064, Val Loss: 0.2064, Val Acc: 94.23%\n",
      "MLP_1layer Epoch 5/5 - Train Loss: 0.1932, Val Loss: 0.2022, Val Acc: 94.33%\n"
     ]
    }
   ],
   "source": [
    "for epoch in range(1, num_epochs + 1):\n",
    "    # Обучение\n",
    "    model.train()\n",
    "    running_loss = 0.0\n",
    "    for images, labels in train_loader:\n",
    "        images = images.view(images.size(0), -1)  # Преобразование изображений в векторы\n",
    "        optimizer.zero_grad()  # Обнуление градиентов\n",
    "        outputs = model(images)  # Прямой проход\n",
    "        loss = criterion(outputs, labels)  # Вычисление потерь\n",
    "        loss.backward()  # Обратный проход\n",
    "        optimizer.step()  # Обновление весов\n",
    "        running_loss += loss.item()  # Накопление потерь\n",
    "\n",
    "    epoch_train_loss = running_loss / len(train_loader)\n",
    "    hist[name]['train_loss'].append(epoch_train_loss)\n",
    "\n",
    "    # Валидация\n",
    "    model.eval()\n",
    "    val_loss = 0.0\n",
    "    correct = 0\n",
    "    total = 0\n",
    "    with torch.no_grad():\n",
    "        for images, labels in val_loader:\n",
    "            images = images.view(images.size(0), -1)  # Преобразование изображений в векторы\n",
    "            outputs = model(images)  # Прямой проход\n",
    "            loss = criterion(outputs, labels)  # Вычисление потерь\n",
    "            val_loss += loss.item()  # Накопление потерь\n",
    "            _, predicted = torch.max(outputs.data, 1)  # Получаем предсказания\n",
    "            total += labels.size(0)  # Общее число примеров\n",
    "            correct += (predicted == labels).sum().item()  # Количество правильных предсказаний\n",
    "\n",
    "    epoch_val_loss = val_loss / len(val_loader)\n",
    "    epoch_val_acc = 100.0 * correct / total\n",
    "    hist[name]['val_loss'].append(epoch_val_loss)\n",
    "    hist[name]['val_acc'].append(epoch_val_acc)\n",
    "\n",
    "    # Логирование в ClearML \n",
    "    logger.report_scalar(\"Loss\", \"Train\", epoch_train_loss, epoch)\n",
    "    logger.report_scalar(\"Loss\", \"Validation\", epoch_val_loss, epoch)\n",
    "    logger.report_scalar(\"Accuracy\", \"Validation\", epoch_val_acc, epoch)\n",
    "\n",
    "    print(f\"{name} Epoch {epoch}/{num_epochs} - \"\n",
    "          f\"Train Loss: {epoch_train_loss:.4f}, \"\n",
    "          f\"Val Loss: {epoch_val_loss:.4f}, \"\n",
    "          f\"Val Acc: {epoch_val_acc:.2f}%\")\n",
    "\n",
    "task.close()"
   ]
  },
  {
   "cell_type": "code",
   "execution_count": 9,
   "id": "a386c85e",
   "metadata": {},
   "outputs": [
    {
     "data": {
      "image/png": "[encoded data removed]",
      "text/plain": [
       "<Figure size 1200x600 with 2 Axes>"
      ]
     },
     "metadata": {},
     "output_type": "display_data"
    }
   ],
   "source": [
    "# Визуализация истории обучения (пример для loss)\n",
    "plt.figure(figsize=(12, 6))\n",
    "\n",
    "\n",
    "# Потеря\n",
    "plt.subplot(1, 2, 1)\n",
    "epochs = range(1, num_epochs + 1)\n",
    "plt.plot(epochs, hist[name]['val_loss'],   marker='x', label=f\"{name} Val Loss\")\n",
    "plt.plot(epochs, hist[name]['train_loss'], marker='o', label=f\"{name} Train Loss\",)\n",
    "plt.title(\"Сравнение кривых потерь\")\n",
    "plt.xlabel(\"Эпоха\")\n",
    "plt.ylabel(\"Loss\")\n",
    "plt.legend()\n",
    "plt.grid(True)\n",
    "\n",
    "\n",
    "# Точность\n",
    "plt.subplot(1, 2, 2)\n",
    "\n",
    "\n",
    "epochs = range(1, num_epochs + 1)\n",
    "plt.plot(epochs, hist[name]['val_acc'], marker='o', label=f\"{name} Val Acc\")\n",
    "plt.title(\"Сравнение точности на валидации\")\n",
    "plt.xlabel(\"Эпоха\")\n",
    "plt.ylabel(\"Accuracy (%)\")\n",
    "plt.legend()\n",
    "plt.grid(True)\n",
    "\n",
    "\n",
    "plt.tight_layout()\n",
    "plt.show() "
   ]
  },
  {
   "cell_type": "markdown",
   "id": "8eb74e31",
   "metadata": {},
   "source": [
    "## Задание 2"
   ]
  },
  {
   "cell_type": "markdown",
   "id": "df8f3628",
   "metadata": {},
   "source": [
    "**Формат задания**\n",
    "\n",
    "Выполните задание локально на своём устройстве. В конце проверьте его самостоятельно, изучив авторское решение. \n",
    "\n",
    "**Что нужно сделать**\n",
    "\n",
    "Реализуйте полносвязную сеть с архитектурой 784→128→64→10 с помощью nn.Sequential. Допишите код, определите новую модель через nn.Sequential с архитектурой 784→128→64→10."
   ]
  },
  {
   "cell_type": "code",
   "execution_count": 4,
   "id": "cf89f238",
   "metadata": {},
   "outputs": [],
   "source": [
    "import os\n",
    "from dotenv import load_dotenv\n",
    "from clearml import Task\n",
    "import torch\n",
    "import torch.nn as nn\n",
    "import torch.optim as optim\n",
    "from torch.utils.data import DataLoader\n",
    "from torchvision import datasets, transforms\n",
    "from clearml import Task, Logger\n",
    "import matplotlib.pyplot as plt"
   ]
  },
  {
   "cell_type": "code",
   "execution_count": 2,
   "id": "891d007f",
   "metadata": {},
   "outputs": [
    {
     "data": {
      "text/plain": [
       "(<torch.utils.data.dataloader.DataLoader at 0x10d706c2ff0>,\n",
       " <torch.utils.data.dataloader.DataLoader at 0x10d709af620>)"
      ]
     },
     "execution_count": 2,
     "metadata": {},
     "output_type": "execute_result"
    }
   ],
   "source": [
    "# Подготовка данных MNIST\n",
    "transform = transforms.Compose([transforms.ToTensor(), transforms.Normalize((0.1307,), (0.3081,))])\n",
    "\n",
    "train_dataset = datasets.MNIST(root='./data', train=True, download=True, transform=transform)\n",
    "val_dataset = datasets.MNIST(root='./data', train=False, download=True, transform=transform)\n",
    "\n",
    "train_loader = DataLoader(train_dataset, batch_size=64, shuffle=True)\n",
    "val_loader = DataLoader(val_dataset, batch_size=1000, shuffle=False)\n",
    "\n",
    "train_loader, val_loader"
   ]
  },
  {
   "cell_type": "code",
   "execution_count": 3,
   "id": "e727dd99",
   "metadata": {},
   "outputs": [
    {
     "data": {
      "text/plain": [
       "Sequential(\n",
       "  (0): Linear(in_features=784, out_features=128, bias=True)\n",
       "  (1): ReLU()\n",
       "  (2): Linear(in_features=128, out_features=64, bias=True)\n",
       "  (3): ReLU()\n",
       "  (4): Linear(in_features=64, out_features=10, bias=True)\n",
       ")"
      ]
     },
     "execution_count": 3,
     "metadata": {},
     "output_type": "execute_result"
    }
   ],
   "source": [
    "# Последовательность самой модели 784→128→64→10\n",
    "model = nn.Sequential(\n",
    "    nn.Linear(784, 128),  # Входной слой с 784 входами и 128 нейронами\n",
    "    nn.ReLU(),            # Функция активации ReLU\n",
    "    nn.Linear(128, 64),   # Скрытый слой с 64 нейронами\n",
    "    nn.ReLU(),            # Функция активации ReLU\n",
    "    nn.Linear(64, 10)     # Выходной слой с 10 нейронами (для классов MNIST)\n",
    ")\n",
    "\n",
    "model"
   ]
  },
  {
   "cell_type": "code",
   "execution_count": 5,
   "id": "7540e9bc",
   "metadata": {},
   "outputs": [
    {
     "name": "stdout",
     "output_type": "stream",
     "text": [
      "ClearML Task: created new task id=3582d07426a848d3baf01f7c5d5a83c3\n",
      "ClearML results page: https://app.clear.ml/projects/843470e65ff9451d889b8d782941e128/experiments/3582d07426a848d3baf01f7c5d5a83c3/output/log\n"
     ]
    },
    {
     "data": {
      "text/plain": [
       "<clearml.task.Task at 0x10d70a54830>"
      ]
     },
     "execution_count": 5,
     "metadata": {},
     "output_type": "execute_result"
    },
    {
     "name": "stdout",
     "output_type": "stream",
     "text": [
      "ClearML Monitor: GPU monitoring failed getting GPU reading, switching off GPU monitoring\n"
     ]
    }
   ],
   "source": [
    "# Название модели для отображения графиков и логгирования\n",
    "name = 'MLP_2layer'\n",
    "\n",
    "# Загрузка переменных окружения из файла .env\n",
    "load_dotenv()\n",
    "\n",
    "Task.set_credentials(\n",
    "    api_host=os.getenv('CLEARML_API_HOST'),\n",
    "    web_host=os.getenv('CLEARML_WEB_HOST'),\n",
    "    files_host=os.getenv('CLEARML_FILES_HOST'),\n",
    "    key=os.getenv('CLEARML_API_ACCESS_KEY'),\n",
    "    secret=os.getenv('CLEARML_API_SECRET_KEY')\n",
    ")\n",
    "task = Task.init(project_name='NeuralNetworkCourse',\n",
    "                 task_name=name,\n",
    "                 reuse_last_task_id=False)\n",
    "logger = Logger.current_logger()\n",
    "task"
   ]
  },
  {
   "cell_type": "code",
   "execution_count": 6,
   "id": "634b90c0",
   "metadata": {},
   "outputs": [],
   "source": [
    "num_epochs = 5\n",
    "hist = {name: {'train_loss': [], 'val_loss': [], 'val_acc': []}}\n",
    "optimizer = optim.Adam(model.parameters(), lr=0.001)\n",
    "criterion = nn.CrossEntropyLoss()"
   ]
  },
  {
   "cell_type": "code",
   "execution_count": 7,
   "id": "2313d4d6",
   "metadata": {},
   "outputs": [
    {
     "name": "stdout",
     "output_type": "stream",
     "text": [
      "MLP_2layer Epoch 1/5 - Train Loss: 0.2602, Val Loss: 0.1453, Val Acc: 95.67%\n",
      "MLP_2layer Epoch 2/5 - Train Loss: 0.1074, Val Loss: 0.0957, Val Acc: 97.01%\n",
      "MLP_2layer Epoch 3/5 - Train Loss: 0.0740, Val Loss: 0.0863, Val Acc: 97.32%\n",
      "MLP_2layer Epoch 4/5 - Train Loss: 0.0606, Val Loss: 0.0792, Val Acc: 97.44%\n",
      "MLP_2layer Epoch 5/5 - Train Loss: 0.0468, Val Loss: 0.0780, Val Acc: 97.49%\n"
     ]
    }
   ],
   "source": [
    "for epoch in range(1, num_epochs + 1):\n",
    "    # Обучение\n",
    "    model.train()\n",
    "    running_loss = 0.0\n",
    "    for images, labels in train_loader:\n",
    "        images = images.view(images.size(0), -1)  # Преобразование изображений в векторы\n",
    "        optimizer.zero_grad()  # Обнуление градиентов\n",
    "        outputs = model(images)  # Прямой проход\n",
    "        loss = criterion(outputs, labels)  # Вычисление потерь\n",
    "        loss.backward()  # Обратный проход\n",
    "        optimizer.step()  # Обновление весов\n",
    "        running_loss += loss.item()  # Накопление потерь\n",
    "\n",
    "    epoch_train_loss = running_loss / len(train_loader)\n",
    "    hist[name]['train_loss'].append(epoch_train_loss)\n",
    "\n",
    "    # Валидация\n",
    "    model.eval()\n",
    "    val_loss = 0.0\n",
    "    correct = 0\n",
    "    total = 0\n",
    "    with torch.no_grad():\n",
    "        for images, labels in val_loader:\n",
    "            images = images.view(images.size(0), -1)  # Преобразование изображений в векторы\n",
    "            outputs = model(images)  # Прямой проход\n",
    "            loss = criterion(outputs, labels)  # Вычисление потерь\n",
    "            val_loss += loss.item()  # Накопление потерь\n",
    "            _, predicted = torch.max(outputs.data, 1)  # Получаем предсказания\n",
    "            total += labels.size(0)  # Общее число примеров\n",
    "            correct += (predicted == labels).sum().item()  # Количество правильных предсказаний\n",
    "\n",
    "    epoch_val_loss = val_loss / len(val_loader)\n",
    "    epoch_val_acc = 100.0 * correct / total\n",
    "    hist[name]['val_loss'].append(epoch_val_loss)\n",
    "    hist[name]['val_acc'].append(epoch_val_acc)\n",
    "\n",
    "    # Логирование в ClearML \n",
    "    logger.report_scalar(\"Loss\", \"Train\", epoch_train_loss, epoch)\n",
    "    logger.report_scalar(\"Loss\", \"Validation\", epoch_val_loss, epoch)\n",
    "    logger.report_scalar(\"Accuracy\", \"Validation\", epoch_val_acc, epoch)\n",
    "\n",
    "    print(f\"{name} Epoch {epoch}/{num_epochs} - \"\n",
    "          f\"Train Loss: {epoch_train_loss:.4f}, \"\n",
    "          f\"Val Loss: {epoch_val_loss:.4f}, \"\n",
    "          f\"Val Acc: {epoch_val_acc:.2f}%\")\n",
    "\n",
    "task.close()"
   ]
  },
  {
   "cell_type": "code",
   "execution_count": 8,
   "id": "4cc8c03d",
   "metadata": {},
   "outputs": [
    {
     "data": {
      "image/png": "[encoded data removed]",
      "text/plain": [
       "<Figure size 1200x600 with 2 Axes>"
      ]
     },
     "metadata": {},
     "output_type": "display_data"
    }
   ],
   "source": [
    "# Визуализация истории обучения (пример для loss)\n",
    "plt.figure(figsize=(12, 6))\n",
    "\n",
    "# Потеря\n",
    "plt.subplot(1, 2, 1)\n",
    "epochs = range(1, num_epochs + 1)\n",
    "plt.plot(epochs, hist[name]['val_loss'], marker='x', label=f\"{name} Val Loss\")\n",
    "plt.plot(epochs, hist[name]['train_loss'], marker='o', label=f\"{name} Train Loss\")\n",
    "plt.title(\"Сравнение кривых потерь\")\n",
    "plt.xlabel(\"Эпоха\")\n",
    "plt.ylabel(\"Loss\")\n",
    "plt.legend()\n",
    "plt.grid(True)\n",
    "\n",
    "# Точность\n",
    "plt.subplot(1, 2, 2)\n",
    "plt.plot(epochs, hist[name]['val_acc'], marker='o', label=f\"{name} Val Acc\")\n",
    "plt.title(\"Сравнение точности на валидации\")\n",
    "plt.xlabel(\"Эпоха\")\n",
    "plt.ylabel(\"Accuracy (%)\")\n",
    "plt.legend()\n",
    "plt.grid(True)\n",
    "\n",
    "plt.tight_layout()\n",
    "plt.show()"
   ]
  },
  {
   "cell_type": "markdown",
   "id": "12fe4448",
   "metadata": {},
   "source": [
    "Ура, ещё одна архитектура готова, она обучается ещё лучше, чем предыдущая!"
   ]
  },
  {
   "cell_type": "markdown",
   "id": "b3a73604",
   "metadata": {},
   "source": [
    "## Задание 3"
   ]
  },
  {
   "cell_type": "markdown",
   "id": "8811e478",
   "metadata": {},
   "source": [
    "**Формат задания**\n",
    "\n",
    "Выполните задание локально на своём устройстве. В конце проверьте его самостоятельно, изучив авторское решение. \n",
    "\n",
    "**Что нужно сделать** \n",
    "\n",
    "Допишите код, определите новую модель через nn.Sequential с архитектурой 784→256→128→64→10. Реализуйте архитектуру MLP с регуляризацией (BatchNorm и Dropout) через nn.Sequential.\n",
    "\n",
    "Вам нужно определить модель в переменной model так, чтобы архитектура состояла из трёх скрытых слоёв размерностью 256→128→64. После первого слоя добавьте BatchNorm1d и ReLU, а перед вторым скрытым слоем — Dropout(0.5)."
   ]
  },
  {
   "cell_type": "code",
   "execution_count": 10,
   "id": "6a8229a7",
   "metadata": {},
   "outputs": [],
   "source": [
    "import os\n",
    "from dotenv import load_dotenv\n",
    "from clearml import Task\n",
    "import torch\n",
    "import torch.nn as nn\n",
    "import torch.optim as optim\n",
    "from torch.utils.data import DataLoader\n",
    "from torchvision import datasets, transforms\n",
    "from clearml import Task, Logger\n",
    "import matplotlib.pyplot as plt"
   ]
  },
  {
   "cell_type": "code",
   "execution_count": 11,
   "id": "180830fd",
   "metadata": {},
   "outputs": [
    {
     "data": {
      "text/plain": [
       "(<torch.utils.data.dataloader.DataLoader at 0x10d71c1bef0>,\n",
       " <torch.utils.data.dataloader.DataLoader at 0x10d71a2d280>)"
      ]
     },
     "execution_count": 11,
     "metadata": {},
     "output_type": "execute_result"
    }
   ],
   "source": [
    "# Подготовка данных MNIST\n",
    "transform = transforms.Compose([transforms.ToTensor(), transforms.Normalize((0.1307,), (0.3081,))])\n",
    "\n",
    "train_dataset = datasets.MNIST(root='./data', train=True, download=True, transform=transform)\n",
    "val_dataset = datasets.MNIST(root='./data', train=False, download=True, transform=transform)\n",
    "\n",
    "train_loader = DataLoader(train_dataset, batch_size=64, shuffle=True)\n",
    "val_loader = DataLoader(val_dataset, batch_size=1000, shuffle=False)\n",
    "\n",
    "train_loader, val_loader"
   ]
  },
  {
   "cell_type": "code",
   "execution_count": 12,
   "id": "8ad025e7",
   "metadata": {},
   "outputs": [
    {
     "data": {
      "text/plain": [
       "Sequential(\n",
       "  (0): Linear(in_features=784, out_features=256, bias=True)\n",
       "  (1): BatchNorm1d(256, eps=1e-05, momentum=0.1, affine=True, track_running_stats=True)\n",
       "  (2): ReLU()\n",
       "  (3): Linear(in_features=256, out_features=128, bias=True)\n",
       "  (4): Dropout(p=0.5, inplace=False)\n",
       "  (5): ReLU()\n",
       "  (6): Linear(in_features=128, out_features=64, bias=True)\n",
       "  (7): ReLU()\n",
       "  (8): Linear(in_features=64, out_features=10, bias=True)\n",
       ")"
      ]
     },
     "execution_count": 12,
     "metadata": {},
     "output_type": "execute_result"
    }
   ],
   "source": [
    "# Последовательность самой модели 784→256→128→64→10 с BatchNorm и Dropout\n",
    "model = nn.Sequential(\n",
    "    nn.Linear(784, 256),        # Входной слой с 784 входами и 256 нейронами\n",
    "    nn.BatchNorm1d(256),        # Нормализация по батчу\n",
    "    nn.ReLU(),                  # Функция активации ReLU\n",
    "    nn.Linear(256, 128),        # Скрытый слой с 128 нейронами\n",
    "    nn.Dropout(0.5),            # Регуляризация Dropout\n",
    "    nn.ReLU(),                  # Функция активации ReLU\n",
    "    nn.Linear(128, 64),         # Скрытый слой с 64 нейронами\n",
    "    nn.ReLU(),                  # Функция активации ReLU\n",
    "    nn.Linear(64, 10)           # Выходной слой с 10 нейронами (для классов MNIST)\n",
    ")\n",
    "\n",
    "model"
   ]
  },
  {
   "cell_type": "code",
   "execution_count": 13,
   "id": "308aa143",
   "metadata": {},
   "outputs": [
    {
     "name": "stdout",
     "output_type": "stream",
     "text": [
      "ClearML Task: created new task id=2603db782b5146eaa318745e68e8087e\n",
      "ClearML results page: https://app.clear.ml/projects/843470e65ff9451d889b8d782941e128/experiments/2603db782b5146eaa318745e68e8087e/output/log\n"
     ]
    },
    {
     "data": {
      "text/plain": [
       "<clearml.task.Task at 0x10d71acbef0>"
      ]
     },
     "execution_count": 13,
     "metadata": {},
     "output_type": "execute_result"
    },
    {
     "name": "stdout",
     "output_type": "stream",
     "text": [
      "ClearML Monitor: GPU monitoring failed getting GPU reading, switching off GPU monitoring\n"
     ]
    }
   ],
   "source": [
    "# Название модели для отображения графиков и логгирования\n",
    "name = 'MLP_3layer'\n",
    "\n",
    "# Загрузка переменных окружения из файла .env\n",
    "load_dotenv()\n",
    "\n",
    "Task.set_credentials(\n",
    "    api_host=os.getenv('CLEARML_API_HOST'),\n",
    "    web_host=os.getenv('CLEARML_WEB_HOST'),\n",
    "    files_host=os.getenv('CLEARML_FILES_HOST'),\n",
    "    key=os.getenv('CLEARML_API_ACCESS_KEY'),\n",
    "    secret=os.getenv('CLEARML_API_SECRET_KEY')\n",
    ")\n",
    "task = Task.init(project_name='NeuralNetworkCourse',\n",
    "                 task_name=name,\n",
    "                 reuse_last_task_id=False)\n",
    "logger = Logger.current_logger()\n",
    "task"
   ]
  },
  {
   "cell_type": "code",
   "execution_count": 14,
   "id": "370ea5b3",
   "metadata": {},
   "outputs": [],
   "source": [
    "num_epochs = 5\n",
    "hist = {name: {'train_loss': [], 'val_loss': [], 'val_acc': []}}\n",
    "optimizer = optim.Adam(model.parameters(), lr=0.001)\n",
    "criterion = nn.CrossEntropyLoss()"
   ]
  },
  {
   "cell_type": "code",
   "execution_count": 15,
   "id": "105334ee",
   "metadata": {},
   "outputs": [
    {
     "name": "stdout",
     "output_type": "stream",
     "text": [
      "MLP_3layer Epoch 1/5 - Train Loss: 0.3142, Val Loss: 0.1174, Val Acc: 96.43%\n",
      "MLP_3layer Epoch 2/5 - Train Loss: 0.1412, Val Loss: 0.0910, Val Acc: 97.29%\n",
      "MLP_3layer Epoch 3/5 - Train Loss: 0.1087, Val Loss: 0.0744, Val Acc: 97.74%\n",
      "MLP_3layer Epoch 4/5 - Train Loss: 0.0852, Val Loss: 0.0719, Val Acc: 97.80%\n",
      "MLP_3layer Epoch 5/5 - Train Loss: 0.0773, Val Loss: 0.0722, Val Acc: 97.93%\n"
     ]
    }
   ],
   "source": [
    "for epoch in range(1, num_epochs + 1):\n",
    "    # Обучение\n",
    "    model.train()\n",
    "    running_loss = 0.0\n",
    "    for images, labels in train_loader:\n",
    "        images = images.view(images.size(0), -1)  # Преобразование изображений в векторы\n",
    "        optimizer.zero_grad()  # Обнуление градиентов\n",
    "        outputs = model(images)  # Прямой проход\n",
    "        loss = criterion(outputs, labels)  # Вычисление потерь\n",
    "        loss.backward()  # Обратный проход\n",
    "        optimizer.step()  # Обновление весов\n",
    "        running_loss += loss.item()  # Накопление потерь\n",
    "\n",
    "    epoch_train_loss = running_loss / len(train_loader)\n",
    "    hist[name]['train_loss'].append(epoch_train_loss)\n",
    "\n",
    "    # Валидация\n",
    "    model.eval()\n",
    "    val_loss = 0.0\n",
    "    correct = 0\n",
    "    total = 0\n",
    "    with torch.no_grad():\n",
    "        for images, labels in val_loader:\n",
    "            images = images.view(images.size(0), -1)  # Преобразование изображений в векторы\n",
    "            outputs = model(images)  # Прямой проход\n",
    "            loss = criterion(outputs, labels)  # Вычисление потерь\n",
    "            val_loss += loss.item()  # Накопление потерь\n",
    "            _, predicted = torch.max(outputs.data, 1)  # Получаем предсказания\n",
    "            total += labels.size(0)  # Общее число примеров\n",
    "            correct += (predicted == labels).sum().item()  # Количество правильных предсказаний\n",
    "\n",
    "    epoch_val_loss = val_loss / len(val_loader)\n",
    "    epoch_val_acc = 100.0 * correct / total\n",
    "    hist[name]['val_loss'].append(epoch_val_loss)\n",
    "    hist[name]['val_acc'].append(epoch_val_acc)\n",
    "\n",
    "    # Логирование в ClearML \n",
    "    logger.report_scalar(\"Loss\", \"Train\", epoch_train_loss, epoch)\n",
    "    logger.report_scalar(\"Loss\", \"Validation\", epoch_val_loss, epoch)\n",
    "    logger.report_scalar(\"Accuracy\", \"Validation\", epoch_val_acc, epoch)\n",
    "\n",
    "    print(f\"{name} Epoch {epoch}/{num_epochs} - \"\n",
    "          f\"Train Loss: {epoch_train_loss:.4f}, \"\n",
    "          f\"Val Loss: {epoch_val_loss:.4f}, \"\n",
    "          f\"Val Acc: {epoch_val_acc:.2f}%\")\n",
    "\n",
    "task.close()"
   ]
  },
  {
   "cell_type": "code",
   "execution_count": 16,
   "id": "f2fc5ca4",
   "metadata": {},
   "outputs": [
    {
     "data": {
      "image/png": "[encoded data removed]",
      "text/plain": [
       "<Figure size 1200x600 with 2 Axes>"
      ]
     },
     "metadata": {},
     "output_type": "display_data"
    }
   ],
   "source": [
    "# Визуализация истории обучения (пример для loss)\n",
    "plt.figure(figsize=(12, 6))\n",
    "\n",
    "# Потеря\n",
    "plt.subplot(1, 2, 1)\n",
    "epochs = range(1, num_epochs + 1)\n",
    "plt.plot(epochs, hist[name]['val_loss'], marker='x', label=f\"{name} Val Loss\")\n",
    "plt.plot(epochs, hist[name]['train_loss'], marker='o', label=f\"{name} Train Loss\")\n",
    "plt.title(\"Сравнение кривых потерь\")\n",
    "plt.xlabel(\"Эпоха\")\n",
    "plt.ylabel(\"Loss\")\n",
    "plt.legend()\n",
    "plt.grid(True)\n",
    "\n",
    "# Точность\n",
    "plt.subplot(1, 2, 2)\n",
    "plt.plot(epochs, hist[name]['val_acc'], marker='o', label=f\"{name} Val Acc\")\n",
    "plt.title(\"Сравнение точности на валидации\")\n",
    "plt.xlabel(\"Эпоха\")\n",
    "plt.ylabel(\"Accuracy (%)\")\n",
    "plt.legend()\n",
    "plt.grid(True)\n",
    "\n",
    "plt.tight_layout()\n",
    "plt.show()"
   ]
  }
 ],
 "metadata": {
  "kernelspec": {
   "display_name": ".venv",
   "language": "python",
   "name": "python3"
  },
  "language_info": {
   "codemirror_mode": {
    "name": "ipython",
    "version": 3
   },
   "file_extension": ".py",
   "mimetype": "text/x-python",
   "name": "python",
   "nbconvert_exporter": "python",
   "pygments_lexer": "ipython3",
   "version": "3.12.10"
  }
 },
 "nbformat": 4,
 "nbformat_minor": 5
}
